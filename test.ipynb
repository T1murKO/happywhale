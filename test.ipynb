{
 "cells": [
  {
   "cell_type": "code",
   "execution_count": 1,
   "metadata": {},
   "outputs": [],
   "source": [
    "from utils.transforms import *"
   ]
  },
  {
   "cell_type": "code",
   "execution_count": 56,
   "metadata": {},
   "outputs": [],
   "source": [
    "import imgaug.augmenters as iaa\n",
    "from torchvision import transforms as T\n",
    "import numpy as np\n",
    "from imgaug.augmenters import Augmenter"
   ]
  },
  {
   "cell_type": "code",
   "execution_count": 57,
   "metadata": {},
   "outputs": [],
   "source": [
    "from random import uniform"
   ]
  },
  {
   "cell_type": "code",
   "execution_count": null,
   "metadata": {},
   "outputs": [],
   "source": [
    "class Crop(Augmenter):\n",
    "    def __init__(self, box_csv, extend_share=(0,1), name=None, deterministic=False, random_state=None):\n",
    "        super(Crop, self).__init__(name=name, deterministic=deterministic, random_state=random_state)\n",
    "        self.box_csv = \n",
    "        \n",
    "\n",
    "    def _augment_images(self, images, random_state, parents, hooks):\n",
    "        for i in range(nb_images):\n",
    "            if samples[i] == 1:\n",
    "                images[i] = np.fliplr(images[i])\n",
    "        return images\n",
    "\n",
    "    def get_parameters(self):\n",
    "        return [self.p]"
   ]
  },
  {
   "cell_type": "code",
   "execution_count": null,
   "metadata": {},
   "outputs": [],
   "source": [
    "def crop_img(img):\n",
    "    return img[:50,:50,:]\n",
    "\n",
    "def func_images(images, random_state, parents, hooks):\n",
    "    images = [crop_img(images[i]) for i in range(len(images))]\n",
    "    return images\n",
    "    \n",
    "def func_heatmaps(heatmaps, random_state, parents, hooks):\n",
    "    return heatmaps\n",
    "    \n",
    "def func_keypoints(keypoints_on_images, random_state, parents, hooks):\n",
    "    return keypoints_on_images\n",
    "\n",
    "crop_augmenter = iaa.Lambda(\n",
    "    func_images=func_images,\n",
    ")\n",
    "\n",
    "aug = iaa.Sequential([iaa.Fliplr(0.5), crop_augmenter(d=1), iaa.Sometimes(0.2, iaa.AverageBlur(k=(3,3)))]).augment_image"
   ]
  },
  {
   "cell_type": "code",
   "execution_count": 51,
   "metadata": {},
   "outputs": [],
   "source": [
    "img = np.random.rand(100, 100, 3)"
   ]
  },
  {
   "cell_type": "code",
   "execution_count": null,
   "metadata": {},
   "outputs": [],
   "source": [
    "img_ = aug(img)"
   ]
  },
  {
   "cell_type": "code",
   "execution_count": 45,
   "metadata": {},
   "outputs": [
    {
     "data": {
      "text/plain": [
       "(50, 50, 3)"
      ]
     },
     "execution_count": 45,
     "metadata": {},
     "output_type": "execute_result"
    }
   ],
   "source": [
    "img_.shape"
   ]
  },
  {
   "cell_type": "code",
   "execution_count": 1,
   "metadata": {},
   "outputs": [],
   "source": [
    "import pandas as pd"
   ]
  },
  {
   "cell_type": "code",
   "execution_count": 9,
   "metadata": {},
   "outputs": [],
   "source": [
    "train = pd.read_csv('/home/timur/happywhale/data/train.csv')"
   ]
  },
  {
   "cell_type": "code",
   "execution_count": 11,
   "metadata": {},
   "outputs": [
    {
     "data": {
      "text/plain": [
       "37c7aba965a5    400\n",
       "114207cab555    168\n",
       "a6e325d8e924    155\n",
       "19fbb960f07d    154\n",
       "c995c043c353    153\n",
       "               ... \n",
       "7da30c559ad2      1\n",
       "882c59ba34bb      1\n",
       "704e724a033f      1\n",
       "08983c540e76      1\n",
       "bc6fcab946c4      1\n",
       "Name: individual_id, Length: 15587, dtype: int64"
      ]
     },
     "execution_count": 11,
     "metadata": {},
     "output_type": "execute_result"
    }
   ],
   "source": [
    "train['individual_id'].value_counts()"
   ]
  },
  {
   "cell_type": "code",
   "execution_count": 12,
   "metadata": {},
   "outputs": [],
   "source": [
    "train = pd.read_csv('/home/timur/happywhale/submission (2).csv')"
   ]
  },
  {
   "cell_type": "code",
   "execution_count": 6,
   "metadata": {},
   "outputs": [
    {
     "data": {
      "text/html": [
       "<div>\n",
       "<style scoped>\n",
       "    .dataframe tbody tr th:only-of-type {\n",
       "        vertical-align: middle;\n",
       "    }\n",
       "\n",
       "    .dataframe tbody tr th {\n",
       "        vertical-align: top;\n",
       "    }\n",
       "\n",
       "    .dataframe thead th {\n",
       "        text-align: right;\n",
       "    }\n",
       "</style>\n",
       "<table border=\"1\" class=\"dataframe\">\n",
       "  <thead>\n",
       "    <tr style=\"text-align: right;\">\n",
       "      <th></th>\n",
       "      <th>image</th>\n",
       "      <th>predictions</th>\n",
       "    </tr>\n",
       "  </thead>\n",
       "  <tbody>\n",
       "    <tr>\n",
       "      <th>27</th>\n",
       "      <td>06abdf11494756.jpg</td>\n",
       "      <td>8f76b84bec12 new_individual d8494dbeeee2 88f17...</td>\n",
       "    </tr>\n",
       "    <tr>\n",
       "      <th>91</th>\n",
       "      <td>a2e98f55918ed8.jpg</td>\n",
       "      <td>8f76b84bec12 new_individual d8494dbeeee2 37c7a...</td>\n",
       "    </tr>\n",
       "    <tr>\n",
       "      <th>120</th>\n",
       "      <td>ff9dd6f419db06.jpg</td>\n",
       "      <td>37c7aba965a5 new_individual 938b7e931166 5bf17...</td>\n",
       "    </tr>\n",
       "    <tr>\n",
       "      <th>153</th>\n",
       "      <td>aadaa86080e006.jpg</td>\n",
       "      <td>37c7aba965a5 new_individual 938b7e931166 5bf17...</td>\n",
       "    </tr>\n",
       "    <tr>\n",
       "      <th>244</th>\n",
       "      <td>cfb1f9a3b11c86.jpg</td>\n",
       "      <td>8f76b84bec12 new_individual d8494dbeeee2 88f17...</td>\n",
       "    </tr>\n",
       "    <tr>\n",
       "      <th>...</th>\n",
       "      <td>...</td>\n",
       "      <td>...</td>\n",
       "    </tr>\n",
       "    <tr>\n",
       "      <th>25462</th>\n",
       "      <td>037b2337f3f985.jpg</td>\n",
       "      <td>new_individual 36fdfe6f1d22 701ec0ab2b1f 37c7a...</td>\n",
       "    </tr>\n",
       "    <tr>\n",
       "      <th>25559</th>\n",
       "      <td>0e37660ec17694.jpg</td>\n",
       "      <td>new_individual 37c7aba965a5 8f76b84bec12 c16d5...</td>\n",
       "    </tr>\n",
       "    <tr>\n",
       "      <th>26322</th>\n",
       "      <td>e953b527c6115b.jpg</td>\n",
       "      <td>new_individual 8bc942512479 37c7aba965a5 8ca0a...</td>\n",
       "    </tr>\n",
       "    <tr>\n",
       "      <th>26496</th>\n",
       "      <td>f6f3debe5fe17d.jpg</td>\n",
       "      <td>new_individual 9e855c962d45 c16d5387d197 8a431...</td>\n",
       "    </tr>\n",
       "    <tr>\n",
       "      <th>27912</th>\n",
       "      <td>16fc28f9a0ad22.jpg</td>\n",
       "      <td>new_individual a9de50cad9a4 37c7aba965a5 987af...</td>\n",
       "    </tr>\n",
       "  </tbody>\n",
       "</table>\n",
       "<p>103 rows × 2 columns</p>\n",
       "</div>"
      ],
      "text/plain": [
       "                    image                                        predictions\n",
       "27     06abdf11494756.jpg  8f76b84bec12 new_individual d8494dbeeee2 88f17...\n",
       "91     a2e98f55918ed8.jpg  8f76b84bec12 new_individual d8494dbeeee2 37c7a...\n",
       "120    ff9dd6f419db06.jpg  37c7aba965a5 new_individual 938b7e931166 5bf17...\n",
       "153    aadaa86080e006.jpg  37c7aba965a5 new_individual 938b7e931166 5bf17...\n",
       "244    cfb1f9a3b11c86.jpg  8f76b84bec12 new_individual d8494dbeeee2 88f17...\n",
       "...                   ...                                                ...\n",
       "25462  037b2337f3f985.jpg  new_individual 36fdfe6f1d22 701ec0ab2b1f 37c7a...\n",
       "25559  0e37660ec17694.jpg  new_individual 37c7aba965a5 8f76b84bec12 c16d5...\n",
       "26322  e953b527c6115b.jpg  new_individual 8bc942512479 37c7aba965a5 8ca0a...\n",
       "26496  f6f3debe5fe17d.jpg  new_individual 9e855c962d45 c16d5387d197 8a431...\n",
       "27912  16fc28f9a0ad22.jpg  new_individual a9de50cad9a4 37c7aba965a5 987af...\n",
       "\n",
       "[103 rows x 2 columns]"
      ]
     },
     "execution_count": 6,
     "metadata": {},
     "output_type": "execute_result"
    }
   ],
   "source": [
    "sub[sub['predictions'].str.contains('37c7aba965a5')]"
   ]
  },
  {
   "cell_type": "code",
   "execution_count": 7,
   "metadata": {},
   "outputs": [
    {
     "data": {
      "text/html": [
       "<div>\n",
       "<style scoped>\n",
       "    .dataframe tbody tr th:only-of-type {\n",
       "        vertical-align: middle;\n",
       "    }\n",
       "\n",
       "    .dataframe tbody tr th {\n",
       "        vertical-align: top;\n",
       "    }\n",
       "\n",
       "    .dataframe thead th {\n",
       "        text-align: right;\n",
       "    }\n",
       "</style>\n",
       "<table border=\"1\" class=\"dataframe\">\n",
       "  <thead>\n",
       "    <tr style=\"text-align: right;\">\n",
       "      <th></th>\n",
       "      <th>image</th>\n",
       "      <th>predictions</th>\n",
       "    </tr>\n",
       "  </thead>\n",
       "  <tbody>\n",
       "    <tr>\n",
       "      <th>55</th>\n",
       "      <td>c5f89238158c6a.jpg</td>\n",
       "      <td>114207cab555 new_individual 938b7e931166 5bf17...</td>\n",
       "    </tr>\n",
       "    <tr>\n",
       "      <th>245</th>\n",
       "      <td>448f8a5986a846.jpg</td>\n",
       "      <td>114207cab555 new_individual 938b7e931166 5bf17...</td>\n",
       "    </tr>\n",
       "    <tr>\n",
       "      <th>331</th>\n",
       "      <td>57c8cf6260996b.jpg</td>\n",
       "      <td>114207cab555 new_individual 938b7e931166 5bf17...</td>\n",
       "    </tr>\n",
       "    <tr>\n",
       "      <th>444</th>\n",
       "      <td>703899af140698.jpg</td>\n",
       "      <td>114207cab555 new_individual 938b7e931166 5bf17...</td>\n",
       "    </tr>\n",
       "    <tr>\n",
       "      <th>501</th>\n",
       "      <td>cbe8c1c41695f9.jpg</td>\n",
       "      <td>114207cab555 new_individual 938b7e931166 5bf17...</td>\n",
       "    </tr>\n",
       "    <tr>\n",
       "      <th>...</th>\n",
       "      <td>...</td>\n",
       "      <td>...</td>\n",
       "    </tr>\n",
       "    <tr>\n",
       "      <th>26486</th>\n",
       "      <td>28998870070f55.jpg</td>\n",
       "      <td>new_individual d8494dbeeee2 114207cab555 938b7...</td>\n",
       "    </tr>\n",
       "    <tr>\n",
       "      <th>26927</th>\n",
       "      <td>14b3b02c5ac5ae.jpg</td>\n",
       "      <td>new_individual 114207cab555 ce6e37904aa4 f8d95...</td>\n",
       "    </tr>\n",
       "    <tr>\n",
       "      <th>27514</th>\n",
       "      <td>53a76055dec033.jpg</td>\n",
       "      <td>new_individual ce6e37904aa4 114207cab555 6ad37...</td>\n",
       "    </tr>\n",
       "    <tr>\n",
       "      <th>27631</th>\n",
       "      <td>5ad1a5a807561f.jpg</td>\n",
       "      <td>new_individual 154418fdb554 d8494dbeeee2 7058b...</td>\n",
       "    </tr>\n",
       "    <tr>\n",
       "      <th>27790</th>\n",
       "      <td>c863bd9b052af4.jpg</td>\n",
       "      <td>new_individual 4a67e64bd3b7 b89a3ae01d1f 203b5...</td>\n",
       "    </tr>\n",
       "  </tbody>\n",
       "</table>\n",
       "<p>89 rows × 2 columns</p>\n",
       "</div>"
      ],
      "text/plain": [
       "                    image                                        predictions\n",
       "55     c5f89238158c6a.jpg  114207cab555 new_individual 938b7e931166 5bf17...\n",
       "245    448f8a5986a846.jpg  114207cab555 new_individual 938b7e931166 5bf17...\n",
       "331    57c8cf6260996b.jpg  114207cab555 new_individual 938b7e931166 5bf17...\n",
       "444    703899af140698.jpg  114207cab555 new_individual 938b7e931166 5bf17...\n",
       "501    cbe8c1c41695f9.jpg  114207cab555 new_individual 938b7e931166 5bf17...\n",
       "...                   ...                                                ...\n",
       "26486  28998870070f55.jpg  new_individual d8494dbeeee2 114207cab555 938b7...\n",
       "26927  14b3b02c5ac5ae.jpg  new_individual 114207cab555 ce6e37904aa4 f8d95...\n",
       "27514  53a76055dec033.jpg  new_individual ce6e37904aa4 114207cab555 6ad37...\n",
       "27631  5ad1a5a807561f.jpg  new_individual 154418fdb554 d8494dbeeee2 7058b...\n",
       "27790  c863bd9b052af4.jpg  new_individual 4a67e64bd3b7 b89a3ae01d1f 203b5...\n",
       "\n",
       "[89 rows x 2 columns]"
      ]
     },
     "execution_count": 7,
     "metadata": {},
     "output_type": "execute_result"
    }
   ],
   "source": [
    "sub[sub['predictions'].str.contains('114207cab555')]"
   ]
  },
  {
   "cell_type": "code",
   "execution_count": null,
   "metadata": {},
   "outputs": [],
   "source": []
  }
 ],
 "metadata": {
  "interpreter": {
   "hash": "a479fee58ddad8d5776fa539da594c69e29ceaa4b5647eb25d0dd86d97628ab7"
  },
  "kernelspec": {
   "display_name": "Python 3.7.11 ('whale_env')",
   "language": "python",
   "name": "python3"
  },
  "language_info": {
   "codemirror_mode": {
    "name": "ipython",
    "version": 3
   },
   "file_extension": ".py",
   "mimetype": "text/x-python",
   "name": "python",
   "nbconvert_exporter": "python",
   "pygments_lexer": "ipython3",
   "version": "3.7.11"
  },
  "orig_nbformat": 4
 },
 "nbformat": 4,
 "nbformat_minor": 2
}
