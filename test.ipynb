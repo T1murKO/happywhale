{
 "cells": [
  {
   "cell_type": "code",
   "execution_count": 1,
   "metadata": {},
   "outputs": [],
   "source": [
    "from utils.transforms import *"
   ]
  },
  {
   "cell_type": "code",
   "execution_count": 267,
   "metadata": {},
   "outputs": [],
   "source": [
    "import imgaug.augmenters as iaa\n",
    "from torchvision import transforms as T\n",
    "import numpy as np\n",
    "from imgaug.augmenters import Augmenter\n",
    "import cv2"
   ]
  },
  {
   "cell_type": "code",
   "execution_count": 57,
   "metadata": {},
   "outputs": [],
   "source": [
    "from random import uniform"
   ]
  },
  {
   "cell_type": "code",
   "execution_count": null,
   "metadata": {},
   "outputs": [],
   "source": [
    "class Crop(Augmenter):\n",
    "    def __init__(self, box_csv, extend_share=(0,1), name=None, deterministic=False, random_state=None):\n",
    "        super(Crop, self).__init__(name=name, deterministic=deterministic, random_state=random_state)\n",
    "        self.box_csv = \n",
    "        \n",
    "\n",
    "    def _augment_images(self, images, random_state, parents, hooks):\n",
    "        for i in range(nb_images):\n",
    "            if samples[i] == 1:\n",
    "                images[i] = np.fliplr(images[i])\n",
    "        return images\n",
    "\n",
    "    def get_parameters(self):\n",
    "        return [self.p]"
   ]
  },
  {
   "cell_type": "code",
   "execution_count": null,
   "metadata": {},
   "outputs": [],
   "source": [
    "def crop_img(img):\n",
    "    return img[:50,:50,:]\n",
    "\n",
    "def func_images(images, random_state, parents, hooks):\n",
    "    images = [crop_img(images[i]) for i in range(len(images))]\n",
    "    return images\n",
    "    \n",
    "def func_heatmaps(heatmaps, random_state, parents, hooks):\n",
    "    return heatmaps\n",
    "    \n",
    "def func_keypoints(keypoints_on_images, random_state, parents, hooks):\n",
    "    return keypoints_on_images\n",
    "\n",
    "crop_augmenter = iaa.Lambda(\n",
    "    func_images=func_images,\n",
    ")\n",
    "\n",
    "aug = iaa.Sequential([iaa.Fliplr(0.5), crop_augmenter(d=1), iaa.Sometimes(0.2, iaa.AverageBlur(k=(3,3)))]).augment_image"
   ]
  },
  {
   "cell_type": "code",
   "execution_count": 51,
   "metadata": {},
   "outputs": [],
   "source": [
    "img = np.random.rand(100, 100, 3)"
   ]
  },
  {
   "cell_type": "code",
   "execution_count": null,
   "metadata": {},
   "outputs": [],
   "source": [
    "img_ = aug(img)"
   ]
  },
  {
   "cell_type": "code",
   "execution_count": 45,
   "metadata": {},
   "outputs": [
    {
     "data": {
      "text/plain": [
       "(50, 50, 3)"
      ]
     },
     "execution_count": 45,
     "metadata": {},
     "output_type": "execute_result"
    }
   ],
   "source": [
    "img_.shape"
   ]
  },
  {
   "cell_type": "code",
   "execution_count": 2,
   "metadata": {},
   "outputs": [],
   "source": [
    "import pandas as pd\n",
    "from torch.utils.data import DataLoader\n",
    "from utils import get_augmentation_list, TrainImageDataset, TestImageDataset, DummyDataset3\n",
    "import os"
   ]
  },
  {
   "cell_type": "code",
   "execution_count": 3,
   "metadata": {},
   "outputs": [],
   "source": [
    "data_csv = pd.read_csv(\"/home/kutsenko/projects/happywhale/data/train_.csv\")\n",
    "data_csv['image'] = data_csv['image'].apply(lambda x: x.replace('.jpg', '.png'))\n",
    "dataset = TrainImageDataset(data_csv[3:10].reset_index(drop=True),\n",
    "                            '/home/kutsenko/kaggle/segmented/seg_img',\n",
    "                            transform=None,\n",
    "                            min_class_num=0,\n",
    "                            img_size=(512, 512))\n",
    "# dataset = TestImageDataset('/home/kutsenko/kaggle/segmented/seg_img_test',\n",
    "#                             transform=None)\n"
   ]
  },
  {
   "cell_type": "code",
   "execution_count": null,
   "metadata": {},
   "outputs": [],
   "source": [
    "from ffcv.fields import RGBImageField, BytesField, IntField, NDArrayField\n",
    "from ffcv.writer import DatasetWriter\n",
    "\n",
    "\n",
    "write_path = '/home/kutsenko/kaggle/ffcv/test.beton'\n",
    "\n",
    "\n",
    "# writer = DatasetWriter(write_path, {\n",
    "#     'image': RGBImageField(),\n",
    "#     'img_name': BytesField()\n",
    "# }, num_workers=10)\n",
    "writer = DatasetWriter(write_path, {\n",
    "    'image': RGBImageField(),\n",
    "    'label': IntField()\n",
    "}, num_workers=10)\n",
    "\n",
    "writer.from_indexed_dataset(dataset)"
   ]
  },
  {
   "cell_type": "code",
   "execution_count": 2,
   "metadata": {},
   "outputs": [
    {
     "name": "stderr",
     "output_type": "stream",
     "text": [
      "OMP: Info #277: omp_set_nested routine deprecated, please use omp_set_max_active_levels instead.\n"
     ]
    }
   ],
   "source": [
    "from ffcv.loader import Loader, OrderOption\n",
    "from ffcv.transforms import ToTensor, ToDevice, ToTorchImage\n",
    "from ffcv.fields.decoders import IntDecoder, SimpleRGBImageDecoder, BytesDecoder\n",
    "from PIL.Image import fromarray\n",
    "from torch import nn\n",
    "import torch\n",
    "from random import uniform"
   ]
  },
  {
   "cell_type": "code",
   "execution_count": 94,
   "metadata": {},
   "outputs": [],
   "source": [
    "AUG_SETTINGS = {\n",
    "    'gausian_blur': {'sigma': ((0, 0.4), (0, 1.6)),\n",
    "                     'p': (0, 0.5)},\n",
    "    \n",
    "    'motion_blur': {'p': (0, 0.4)},\n",
    "    \n",
    "    'color_jitter': {'brightness': ((1, 0.8), (1, 1.1)),\n",
    "                'contrast': ((1, 0.7), (1, 1.17)),\n",
    "                'saturation': ((1, 0.6),(1, 1.4)),\n",
    "                'hue': ((0, -0.035), (0, 0.035)),\n",
    "                'p': (0, 0.6)},\n",
    "    \n",
    "    'thin_plate_spline': {'scale': (0, 0.25),\n",
    "                          'p': (0, 0.35)},\n",
    "    \n",
    "    'rotation': {'degrees': ((0, -17), (0, 17)),\n",
    "                 'p': (0, 0.55)},\n",
    "    \n",
    "    'perspective': {'distortion_scale': (0, 0.25),\n",
    "                    'p': (0, 0.65)},\n",
    "    \n",
    "    'cutout1' : {'scale': ((0, 0.02), (0, 0.07)),\n",
    "                 'p': (0, 0.45)},\n",
    "    \n",
    "    'cutout2': {'scale': ((0, 0.015), (0, 0.06)),\n",
    "                'p': (0, 0.25)},\n",
    "    \n",
    "    'resolution': (256, 512)\n",
    "}\n",
    "\n",
    "\n",
    "AUG_SETTINGS = {\n",
    "    'gausian_blur': {'sigma': ((0, 0.1), (0, 1)),\n",
    "                     'p': (0, 0.3)},\n",
    "    \n",
    "    'motion_blur': {'p': (0, 0)},\n",
    "    \n",
    "    'color_jitter': {'brightness': ((1, 0.97), (1, 1.03)),\n",
    "                'contrast': ((1, 0.9), (1, 1.05)),\n",
    "                'saturation': ((1, 0.85), (1, 1.15)),\n",
    "                'hue': ((0, -0.01), (0, 0.01)),\n",
    "                'p': (0, 0.35)},\n",
    "    \n",
    "    'thin_plate_spline': {'scale': (0, 0.12),\n",
    "                          'p': (0, 0.1)},\n",
    "    \n",
    "    'rotation': {'degrees': ((0, -7), (0, 7)),\n",
    "                 'p': (0, 0.2)},\n",
    "    \n",
    "    'perspective': {'distortion_scale': (0, 0.15),\n",
    "                    'p': (0, 0.25)},\n",
    "    \n",
    "    'cutout1' : {'scale': ((0, 0.015), (0, 0.06)),\n",
    "                 'p': (0, 0.25)},\n",
    "    \n",
    "    'cutout2': {'scale': ((0, 0.015), (0, 0.06)),\n",
    "                'p': (0, 0)},\n",
    "    \n",
    "    'resolution': (160, 256)\n",
    "}"
   ]
  },
  {
   "cell_type": "code",
   "execution_count": 22,
   "metadata": {},
   "outputs": [],
   "source": [
    "import numpy as np\n",
    "from kornia.augmentation import *\n",
    "from kornia.augmentation.container import AugmentationSequential\n",
    "import cv2\n",
    "\n",
    "\n",
    "augmentation_settings = {\n",
    "    'gausian_blur': {'sigma': ((0, 0.4), (0, 1.6)),\n",
    "                     'p': (0, 0.5)},\n",
    "    \n",
    "    'motion_blur': {'p': (0, 0.4)},\n",
    "    \n",
    "    'color_jitter': {'brightness': ((1, 0.8), (1, 1.1)),\n",
    "                'contrast': ((1, 0.7), (1, 1.17)),\n",
    "                'saturation': ((1, 0.6),(1, 1.4)),\n",
    "                'hue': ((0, -0.035), (0, 0.035)),\n",
    "                'p': (0, 0.6)},\n",
    "    \n",
    "    'thin_plate_spline': {'scale': (0, 0.25),\n",
    "                          'p': (0, 0.35)},\n",
    "    \n",
    "    'rotation': {'degrees': ((0, -17), (0, 17)),\n",
    "                 'p': (0, 0.55)},\n",
    "    \n",
    "    'perspective': {'distortion_scale': (0, 0.25),\n",
    "                    'p': (0, 0.65)},\n",
    "    \n",
    "    'cutout1' : {'scale': ((0, 0.02), (0, 0.07)),\n",
    "                 'p': (0, 0.45)},\n",
    "    \n",
    "    'cutout2': {'scale': ((0, 0.015), (0, 0.06)),\n",
    "                'p': (0, 0.25)},\n",
    "    \n",
    "    'resolution': (160, 256)\n",
    "}\n",
    "\n",
    "\n",
    "\n",
    "class Augmenter(nn.Module):\n",
    "    def __init__(self):\n",
    "        super().__init__()\n",
    "        self.aug_list = AugmentationSequential(\n",
    "            Resize((128, 128))\n",
    "            # RandomHorizontalFlip(p=1),\n",
    "            # AugmentationSequential(RandomGaussianBlur(kernel_size=(3, 3), sigma=(1.09, 1.1), p=1),\n",
    "                                #    RandomMotionBlur(kernel_size=(3, 3), angle=(-90,90), direction=0, p=0.4),\n",
    "                                  # random_apply=1),\n",
    "            # )\n",
    "            # ColorJitter(brightness=(0.8, 1.1),\n",
    "            #             contrast=(0.7, 1.17),\n",
    "            #             saturation=(0.6, 1.4),\n",
    "            #             hue=(-0.035, 0.035),\n",
    "            #             p=0.6),\n",
    "            # AugmentationSequential(RandomThinPlateSpline(scale=0.25, p=0.35),\n",
    "            #                        RandomRotation(degrees=(-17, -17), p=0.55),\n",
    "            #                        RandomPerspective(distortion_scale=0.25, p=0.65),\n",
    "            #                        random_apply=1),\n",
    "            \n",
    "            # AugmentationSequential(RandomErasing(scale=(0.02, 0.07), ratio=(0.7, 1.3), value=0.0, p=0.45),\n",
    "            #                        RandomErasing(scale=(0.015, 0.06), ratio=(0.7, 1.3), value=0.0, p=0.25))\n",
    "            \n",
    "            \n",
    "        )\n",
    "    \n",
    "    def forward(self, x):\n",
    "        return self.aug_list(x.type(torch.float32) / 255.)\n",
    "    "
   ]
  },
  {
   "cell_type": "code",
   "execution_count": 163,
   "metadata": {},
   "outputs": [],
   "source": [
    "image_pipeline = [SimpleRGBImageDecoder(), ToTensor(), ToTorchImage(), Augmenter()]\n",
    "# image_pipeline = [SimpleRGBImageDecoder(), ToTensor(), ToTorchImage()]\n",
    "label_pipeline = [IntDecoder()]\n",
    "\n",
    "write_path = '/home/kutsenko/kaggle/ffcv/test.beton'\n",
    "pipelines = {\n",
    "    'image': image_pipeline,\n",
    "    'label': label_pipeline\n",
    "}\n",
    "\n",
    "loader = Loader(write_path, batch_size=1, num_workers=1,\n",
    "                order=OrderOption.SEQUENTIAL, pipelines=pipelines)\n",
    "\n"
   ]
  },
  {
   "cell_type": "code",
   "execution_count": null,
   "metadata": {},
   "outputs": [],
   "source": [
    "for i, x in loader:\n",
    "    img = np.moveaxis((i[0] * 255.).type(torch.uint8).numpy(), 0, -1)\n",
    "    # img = i[0]\n",
    "    break\n",
    "print(img.shape)\n",
    "fromarray(img)"
   ]
  },
  {
   "cell_type": "code",
   "execution_count": 23,
   "metadata": {},
   "outputs": [],
   "source": [
    "import numpy as np\n",
    "from torch import nn\n",
    "import torch\n",
    "import matplotlib.pyplot as plt"
   ]
  },
  {
   "cell_type": "code",
   "execution_count": 24,
   "metadata": {},
   "outputs": [],
   "source": [
    "from modules.schedulers import ResolutionScheduler, LrRampScheduler"
   ]
  },
  {
   "cell_type": "code",
   "execution_count": 42,
   "metadata": {},
   "outputs": [],
   "source": [
    "class ProgressiveAugmenter(nn.Module):\n",
    "    def __init__(self, aug_settings):\n",
    "        super().__init__()\n",
    "        self.aug_setttings = aug_settings\n",
    "        self.stage_len = aug_settings['epochs_max'] // aug_settings['stages_num']\n",
    "        self.update_augmentation_list(0)\n",
    "         \n",
    "       \n",
    "    @staticmethod\n",
    "    def inrpolate_value(min, max, scale_coef):\n",
    "        return min + (max - min) * scale_coef\n",
    "    \n",
    "    def update_augmentation_list(self, epoch):\n",
    "        s = self.aug_setttings\n",
    "        \n",
    "        if epoch > self.aug_setttings['epochs_max']:\n",
    "            stage = self.aug_setttings['stages_num'] - 1\n",
    "        else:\n",
    "            stage = epoch // self.stage_len\n",
    "        \n",
    "        scale_coef = stage / (self.aug_setttings['stages_num'] - 1)\n",
    "        \n",
    "        gblur_s_min = round(self.inrpolate_value(s['gausian_blur']['sigma'][0][0],\n",
    "                                            s['gausian_blur']['sigma'][0][1],\n",
    "                                            scale_coef), 3)\n",
    "        \n",
    "        gblur_s_max = round(self.inrpolate_value(s['gausian_blur']['sigma'][1][0],\n",
    "                                            s['gausian_blur']['sigma'][1][1],\n",
    "                                            scale_coef), 3)\n",
    "        \n",
    "        gblur_p = round(self.inrpolate_value(s['gausian_blur']['p'][0],\n",
    "                                    s['gausian_blur']['p'][1],\n",
    "                                    scale_coef), 3)\n",
    "        \n",
    "        print(f'Gause blure:   MIN: {gblur_s_min}, MAX:{gblur_s_max}, P:{gblur_p}')\n",
    "        \n",
    "        mblur_p = round(self.inrpolate_value(s['motion_blur']['p'][0],\n",
    "                            s['motion_blur']['p'][1],\n",
    "                            scale_coef), 3)\n",
    "        \n",
    "        print(f'Motion blure: P:{mblur_p}')\n",
    "        \n",
    "        brightness_min = round(self.inrpolate_value(s['color_jitter']['brightness'][0][0],\n",
    "                                    s['color_jitter']['brightness'][0][1],\n",
    "                                    scale_coef), 3)\n",
    "        \n",
    "        brightness_max = round(self.inrpolate_value(s['color_jitter']['brightness'][1][0],\n",
    "                            s['color_jitter']['brightness'][1][1],\n",
    "                            scale_coef), 3)\n",
    "        \n",
    "        print(f'Brithness:   MIN: {brightness_min}, MAX:{brightness_max}')\n",
    "        \n",
    "        \n",
    "        contrast_min = round(self.inrpolate_value(s['color_jitter']['contrast'][0][0],\n",
    "                            s['color_jitter']['contrast'][0][1],\n",
    "                            scale_coef), 3)\n",
    "        \n",
    "        contrast_max = round(self.inrpolate_value(s['color_jitter']['contrast'][1][0],\n",
    "                            s['color_jitter']['contrast'][1][1],\n",
    "                            scale_coef), 3)\n",
    "        \n",
    "        print(f'Contrast:   MIN: {contrast_min}, MAX:{contrast_max}')\n",
    "        \n",
    "\n",
    "        saturation_min = round(self.inrpolate_value(s['color_jitter']['saturation'][0][0],\n",
    "                            s['color_jitter']['saturation'][0][1],\n",
    "                            scale_coef), 3)\n",
    "        \n",
    "        saturation_max = round(self.inrpolate_value(s['color_jitter']['saturation'][1][0],\n",
    "                            s['color_jitter']['saturation'][1][1],\n",
    "                            scale_coef), 3)\n",
    "        \n",
    "        \n",
    "        print(f'Saturation:   MIN: {saturation_min}, MAX:{saturation_max}')\n",
    "\n",
    "\n",
    "        hue_min = round(self.inrpolate_value(s['color_jitter']['hue'][0][0],\n",
    "                            s['color_jitter']['hue'][0][1],\n",
    "                            scale_coef), 3)\n",
    "        \n",
    "        hue_max = round(self.inrpolate_value(s['color_jitter']['hue'][1][0],\n",
    "                            s['color_jitter']['hue'][1][1],\n",
    "                            scale_coef), 3)\n",
    "        \n",
    "        print(f'Hue:   MIN: {hue_min}, MAX:{hue_max}')\n",
    "        \n",
    "\n",
    "        color_jitter_p = round(self.inrpolate_value(s['color_jitter']['p'][0],\n",
    "                            s['color_jitter']['p'][1],\n",
    "                            scale_coef), 3)\n",
    "        \n",
    "        print(f'Jitter P: {color_jitter_p}')\n",
    "        \n",
    "        \n",
    "        th_plate_s = round(self.inrpolate_value(s['thin_plate_spline']['scale'][0],\n",
    "                            s['thin_plate_spline']['scale'][1],\n",
    "                            scale_coef), 3)\n",
    "        \n",
    "        th_plate_p = round(self.inrpolate_value(s['thin_plate_spline']['p'][0],\n",
    "                            s['thin_plate_spline']['p'][1],\n",
    "                            scale_coef), 3)\n",
    "        \n",
    "        \n",
    "        print(f'Plate:   S: {th_plate_s}, P:{th_plate_p}')\n",
    "        \n",
    "        \n",
    "        rotation_degree_min = round(self.inrpolate_value(s['rotation']['degrees'][0][0],\n",
    "                            s['rotation']['degrees'][0][1],\n",
    "                            scale_coef), 3)\n",
    "        \n",
    "        rotation_degree_max = round(self.inrpolate_value(s['rotation']['degrees'][1][0],\n",
    "                            s['rotation']['degrees'][1][1],\n",
    "                            scale_coef), 3)\n",
    "        \n",
    "        rotation_p = round(self.inrpolate_value(s['rotation']['p'][0],\n",
    "                            s['rotation']['p'][0],\n",
    "                            scale_coef), 3)\n",
    "        \n",
    "        print(f'Rotation:   MIN: {rotation_degree_min}, MAX:{rotation_degree_max}, P:{rotation_p}')\n",
    "        \n",
    "        \n",
    "        perspective_s = round(self.inrpolate_value(s['perspective']['distortion_scale'][0],\n",
    "                            s['perspective']['distortion_scale'][1],\n",
    "                            scale_coef), 3)\n",
    "        \n",
    "        perspective_p = round(self.inrpolate_value(s['perspective']['p'][0],\n",
    "                            s['perspective']['p'][1],\n",
    "                            scale_coef), 3)\n",
    "        \n",
    "        print(f'Plate:   S: {perspective_s}, P:{perspective_p}')\n",
    "        \n",
    "        cutout1_s_min = round(self.inrpolate_value(s['cutout1']['scale'][0][0],\n",
    "                            s['cutout1']['scale'][0][1],\n",
    "                            scale_coef), 3)\n",
    "        \n",
    "        cutout1_s_max = round(self.inrpolate_value(s['cutout1']['scale'][1][0],\n",
    "                            s['cutout1']['scale'][1][1],\n",
    "                            scale_coef), 3)\n",
    "        \n",
    "        cutout1_p = round(self.inrpolate_value(s['cutout1']['p'][0],\n",
    "                            s['cutout1']['p'][1],\n",
    "                            scale_coef), 3)\n",
    "        \n",
    "        cutout2_s_min = round(self.inrpolate_value(s['cutout2']['scale'][0][0],\n",
    "                    s['cutout1']['scale'][0][1],\n",
    "                    scale_coef), 3)\n",
    "        \n",
    "        cutout2_s_max = round(self.inrpolate_value(s['cutout2']['scale'][1][0],\n",
    "                            s['cutout1']['scale'][1][1],\n",
    "                            scale_coef), 3)\n",
    "        \n",
    "        cutout2_p = round(self.inrpolate_value(s['cutout2']['p'][0],\n",
    "                            s['cutout1']['p'][1],\n",
    "                            scale_coef), 3)\n",
    "        \n",
    "        resolution = round(self.inrpolate_value(s['resolution']['min_res'],\n",
    "                            s['resolution']['max_res'],\n",
    "                            scale_coef))\n",
    "        \n",
    "        print('Resolution:', resolution)\n",
    "        \n",
    "        \n",
    "        # self.aug_list = AugmentationSequential(\n",
    "        #     Resize((resolution, resolution)),\n",
    "        #     RandomHorizontalFlip(p=0.5),\n",
    "        #     AugmentationSequential(RandomGaussianBlur(kernel_size=(3, 3), sigma=(gblur_s_min, gblur_s_max), p=gblur_p),\n",
    "        #                            RandomMotionBlur(kernel_size=(3, 3), angle=(-90,90), direction=0, p=mblur_p),\n",
    "        #                            random_apply=1),\n",
    "        #     ColorJitter(brightness=(brightness_min, brightness_max),\n",
    "        #                 contrast=(contrast_min, contrast_max),\n",
    "        #                 saturation=(saturation_min, saturation_max),\n",
    "        #                 hue=(hue_min, hue_max),\n",
    "        #                 p=color_jitter_p),\n",
    "            \n",
    "        #     AugmentationSequential(RandomThinPlateSpline(scale=th_plate_s, p=th_plate_p),\n",
    "        #                            RandomRotation(degrees=(rotation_degree_min, rotation_degree_max), p=rotation_p),\n",
    "        #                            RandomPerspective(distortion_scale=perspective_s, p=perspective_p),\n",
    "        #                            random_apply=1),\n",
    "            \n",
    "        #     AugmentationSequential(RandomErasing(scale=(cutout1_s_min, cutout1_s_max), ratio=(0.7, 1.3), value=0.0, p=cutout1_p),\n",
    "        #                            RandomErasing(scale=(cutout2_s_min, cutout2_s_max), ratio=(0.7, 1.3), value=0.0, p=cutout2_p),\n",
    "        #                            )\n",
    "        # )\n",
    "        \n",
    "        \n",
    "    @torch.no_grad()\n",
    "    def forward(self, x):\n",
    "        return self.aug_list(x.type(torch.float32) / 255.)"
   ]
  },
  {
   "cell_type": "code",
   "execution_count": 38,
   "metadata": {},
   "outputs": [],
   "source": [
    "# class DecayScheduler():\n",
    "#     def __init__(self, base_lr, decay, step):\n",
    "#         # super(DecayScheduler, self).__init__()\n",
    "#         self.step  = step\n",
    "#         self.decay = decay\n",
    "#         self.base_lr = base_lr\n",
    "\n",
    "#     def __call__(self, epoch):\n",
    "#         lr = self.base_lr * (self.decay**(epoch // self.step))\n",
    "#         return lr\n",
    "\n",
    "# scheduler = DecayScheduler(0.0001, 0.9, 1)"
   ]
  },
  {
   "cell_type": "code",
   "execution_count": 39,
   "metadata": {},
   "outputs": [],
   "source": [
    "AUG_SETTINGS = {\n",
    "    'gausian_blur': {'sigma': ((0, 0.4), (0, 1.6)),\n",
    "                     'p': (0, 0.5)},\n",
    "    \n",
    "    'motion_blur': {'p': (0, 0.4)},\n",
    "    \n",
    "    'color_jitter': {'brightness': ((1, 0.8), (1, 1.1)),\n",
    "                'contrast': ((1, 0.7), (1, 1.17)),\n",
    "                'saturation': ((1, 0.6),(1, 1.4)),\n",
    "                'hue': ((0, -0.035), (0, 0.035)),\n",
    "                'p': (0, 0.6)},\n",
    "    \n",
    "    'thin_plate_spline': {'scale': (0.01, 0.25),\n",
    "                          'p': (0, 0.35)},\n",
    "    \n",
    "    'rotation': {'degrees': ((0, -17), (0, 17)),\n",
    "                 'p': (0, 0.55)},\n",
    "    \n",
    "    'perspective': {'distortion_scale': (0.0, 0.25),\n",
    "                    'p': (0, 0.65)},\n",
    "    \n",
    "    'cutout1' : {'scale': ((0, 0.02), (0, 0.07)),\n",
    "                 'p': (0, 0.45)},\n",
    "    \n",
    "    'cutout2': {'scale': ((0, 0.015), (0, 0.06)),\n",
    "                'p': (0, 0.25)},\n",
    "    'epochs_max': 16,\n",
    "    'stages_num': 8,\n",
    "    'resolution': {'min_res': 256, 'max_res': 512}\n",
    "}\n",
    "\n",
    "\n",
    "\n",
    "lr_start = 0.000001\n",
    "lr_max = 0.0001\n",
    "lr_min = 0.00001\n",
    "lr_ramp_ep = 5\n",
    "lr_sus_ep = 5\n",
    "lr_decay = 0.9\n",
    "\n",
    "batch_size = 32\n",
    "\n"
   ]
  },
  {
   "cell_type": "code",
   "execution_count": 40,
   "metadata": {},
   "outputs": [
    {
     "name": "stdout",
     "output_type": "stream",
     "text": [
      "Gause blure:   MIN: 0.0, MAX:0.0, P:0.0\n",
      "Motion blure: P:0.0\n",
      "Brithness:   MIN: 1.0, MAX:1.0\n",
      "Contrast:   MIN: 1.0, MAX:1.0\n",
      "Saturation:   MIN: 1.0, MAX:1.0\n",
      "Hue:   MIN: 0.0, MAX:0.0\n",
      "Jitter P: 0.0\n",
      "Plate:   S: 0.01, P:0.0\n",
      "Rotation:   MIN: 0.0, MAX:0.0, P:0.0\n",
      "Plate:   S: 0.0, P:0.0\n",
      "Resolution: 256\n"
     ]
    }
   ],
   "source": [
    "augmenter = ProgressiveAugmenter(AUG_SETTINGS)"
   ]
  },
  {
   "cell_type": "code",
   "execution_count": 41,
   "metadata": {},
   "outputs": [
    {
     "name": "stdout",
     "output_type": "stream",
     "text": [
      "Gause blure:   MIN: 0.4, MAX:1.6, P:0.5\n",
      "Motion blure: P:0.4\n",
      "Brithness:   MIN: 0.8, MAX:1.1\n",
      "Contrast:   MIN: 0.7, MAX:1.17\n",
      "Saturation:   MIN: 0.6, MAX:1.4\n",
      "Hue:   MIN: -0.035, MAX:0.035\n",
      "Jitter P: 0.6\n",
      "Plate:   S: 0.25, P:0.35\n",
      "Rotation:   MIN: -17.0, MAX:17.0, P:0.0\n",
      "Plate:   S: 0.25, P:0.65\n",
      "Resolution: 512\n"
     ]
    }
   ],
   "source": [
    "augmenter.update_augmentation_list(18)"
   ]
  },
  {
   "cell_type": "code",
   "execution_count": 21,
   "metadata": {},
   "outputs": [
    {
     "ename": "NameError",
     "evalue": "name 'AugmentationSequential' is not defined",
     "output_type": "error",
     "traceback": [
      "\u001b[0;31m---------------------------------------------------------------------------\u001b[0m",
      "\u001b[0;31mNameError\u001b[0m                                 Traceback (most recent call last)",
      "\u001b[1;32m/home/kutsenko/projects/happywhale/test.ipynb Cell 22'\u001b[0m in \u001b[0;36m<cell line: 1>\u001b[0;34m()\u001b[0m\n\u001b[0;32m----> <a href='vscode-notebook-cell:/home/kutsenko/projects/happywhale/test.ipynb#ch0000033?line=0'>1</a>\u001b[0m augmenter \u001b[39m=\u001b[39m ProgressiveAugmenter(AUG_SETTINGS)\n\u001b[1;32m      <a href='vscode-notebook-cell:/home/kutsenko/projects/happywhale/test.ipynb#ch0000033?line=2'>3</a>\u001b[0m lr_scheduler \u001b[39m=\u001b[39m LrRampScheduler(\n\u001b[1;32m      <a href='vscode-notebook-cell:/home/kutsenko/projects/happywhale/test.ipynb#ch0000033?line=3'>4</a>\u001b[0m                           lr_start\u001b[39m=\u001b[39mlr_start,\n\u001b[1;32m      <a href='vscode-notebook-cell:/home/kutsenko/projects/happywhale/test.ipynb#ch0000033?line=4'>5</a>\u001b[0m                           lr_max\u001b[39m=\u001b[39mlr_max,\n\u001b[0;32m   (...)\u001b[0m\n\u001b[1;32m      <a href='vscode-notebook-cell:/home/kutsenko/projects/happywhale/test.ipynb#ch0000033?line=7'>8</a>\u001b[0m                           lr_sus_ep\u001b[39m=\u001b[39mlr_sus_ep,\n\u001b[1;32m      <a href='vscode-notebook-cell:/home/kutsenko/projects/happywhale/test.ipynb#ch0000033?line=8'>9</a>\u001b[0m                           lr_decay\u001b[39m=\u001b[39mlr_decay)\n",
      "\u001b[1;32m/home/kutsenko/projects/happywhale/test.ipynb Cell 19'\u001b[0m in \u001b[0;36mProgressiveAugmenter.__init__\u001b[0;34m(self, aug_settings)\u001b[0m\n\u001b[1;32m      <a href='vscode-notebook-cell:/home/kutsenko/projects/happywhale/test.ipynb#ch0000022?line=3'>4</a>\u001b[0m \u001b[39mself\u001b[39m\u001b[39m.\u001b[39maug_setttings \u001b[39m=\u001b[39m aug_settings\n\u001b[1;32m      <a href='vscode-notebook-cell:/home/kutsenko/projects/happywhale/test.ipynb#ch0000022?line=4'>5</a>\u001b[0m \u001b[39mself\u001b[39m\u001b[39m.\u001b[39mstage_len \u001b[39m=\u001b[39m aug_settings[\u001b[39m'\u001b[39m\u001b[39mepochs_max\u001b[39m\u001b[39m'\u001b[39m] \u001b[39m/\u001b[39m\u001b[39m/\u001b[39m aug_settings[\u001b[39m'\u001b[39m\u001b[39mstages_num\u001b[39m\u001b[39m'\u001b[39m]\n\u001b[0;32m----> <a href='vscode-notebook-cell:/home/kutsenko/projects/happywhale/test.ipynb#ch0000022?line=5'>6</a>\u001b[0m \u001b[39mself\u001b[39;49m\u001b[39m.\u001b[39;49mupdate_augmentation_list(\u001b[39m0\u001b[39;49m)\n",
      "\u001b[1;32m/home/kutsenko/projects/happywhale/test.ipynb Cell 19'\u001b[0m in \u001b[0;36mProgressiveAugmenter.update_augmentation_list\u001b[0;34m(self, epoch)\u001b[0m\n\u001b[1;32m    <a href='vscode-notebook-cell:/home/kutsenko/projects/happywhale/test.ipynb#ch0000022?line=128'>129</a>\u001b[0m cutout2_p \u001b[39m=\u001b[39m \u001b[39mround\u001b[39m(\u001b[39mself\u001b[39m\u001b[39m.\u001b[39minrpolate_value(s[\u001b[39m'\u001b[39m\u001b[39mcutout2\u001b[39m\u001b[39m'\u001b[39m][\u001b[39m'\u001b[39m\u001b[39mp\u001b[39m\u001b[39m'\u001b[39m][\u001b[39m0\u001b[39m],\n\u001b[1;32m    <a href='vscode-notebook-cell:/home/kutsenko/projects/happywhale/test.ipynb#ch0000022?line=129'>130</a>\u001b[0m                     s[\u001b[39m'\u001b[39m\u001b[39mcutout1\u001b[39m\u001b[39m'\u001b[39m][\u001b[39m'\u001b[39m\u001b[39mp\u001b[39m\u001b[39m'\u001b[39m][\u001b[39m1\u001b[39m],\n\u001b[1;32m    <a href='vscode-notebook-cell:/home/kutsenko/projects/happywhale/test.ipynb#ch0000022?line=130'>131</a>\u001b[0m                     scale_coef), \u001b[39m3\u001b[39m)\n\u001b[1;32m    <a href='vscode-notebook-cell:/home/kutsenko/projects/happywhale/test.ipynb#ch0000022?line=132'>133</a>\u001b[0m resolution \u001b[39m=\u001b[39m \u001b[39mround\u001b[39m(\u001b[39mself\u001b[39m\u001b[39m.\u001b[39minrpolate_value(s[\u001b[39m'\u001b[39m\u001b[39mresolution\u001b[39m\u001b[39m'\u001b[39m][\u001b[39m'\u001b[39m\u001b[39mmin_res\u001b[39m\u001b[39m'\u001b[39m],\n\u001b[1;32m    <a href='vscode-notebook-cell:/home/kutsenko/projects/happywhale/test.ipynb#ch0000022?line=133'>134</a>\u001b[0m                     s[\u001b[39m'\u001b[39m\u001b[39mresolution\u001b[39m\u001b[39m'\u001b[39m][\u001b[39m'\u001b[39m\u001b[39mmax_res\u001b[39m\u001b[39m'\u001b[39m],\n\u001b[1;32m    <a href='vscode-notebook-cell:/home/kutsenko/projects/happywhale/test.ipynb#ch0000022?line=134'>135</a>\u001b[0m                     scale_coef))\n\u001b[0;32m--> <a href='vscode-notebook-cell:/home/kutsenko/projects/happywhale/test.ipynb#ch0000022?line=138'>139</a>\u001b[0m \u001b[39mself\u001b[39m\u001b[39m.\u001b[39maug_list \u001b[39m=\u001b[39m AugmentationSequential(\n\u001b[1;32m    <a href='vscode-notebook-cell:/home/kutsenko/projects/happywhale/test.ipynb#ch0000022?line=139'>140</a>\u001b[0m     Resize((resolution, resolution)),\n\u001b[1;32m    <a href='vscode-notebook-cell:/home/kutsenko/projects/happywhale/test.ipynb#ch0000022?line=140'>141</a>\u001b[0m     RandomHorizontalFlip(p\u001b[39m=\u001b[39m\u001b[39m0.5\u001b[39m),\n\u001b[1;32m    <a href='vscode-notebook-cell:/home/kutsenko/projects/happywhale/test.ipynb#ch0000022?line=141'>142</a>\u001b[0m     AugmentationSequential(RandomGaussianBlur(kernel_size\u001b[39m=\u001b[39m(\u001b[39m3\u001b[39m, \u001b[39m3\u001b[39m), sigma\u001b[39m=\u001b[39m(gblur_s_min, gblur_s_max), p\u001b[39m=\u001b[39mgblur_p),\n\u001b[1;32m    <a href='vscode-notebook-cell:/home/kutsenko/projects/happywhale/test.ipynb#ch0000022?line=142'>143</a>\u001b[0m                            RandomMotionBlur(kernel_size\u001b[39m=\u001b[39m(\u001b[39m3\u001b[39m, \u001b[39m3\u001b[39m), angle\u001b[39m=\u001b[39m(\u001b[39m-\u001b[39m\u001b[39m90\u001b[39m,\u001b[39m90\u001b[39m), direction\u001b[39m=\u001b[39m\u001b[39m0\u001b[39m, p\u001b[39m=\u001b[39mmblur_p),\n\u001b[1;32m    <a href='vscode-notebook-cell:/home/kutsenko/projects/happywhale/test.ipynb#ch0000022?line=143'>144</a>\u001b[0m                            random_apply\u001b[39m=\u001b[39m\u001b[39m1\u001b[39m),\n\u001b[1;32m    <a href='vscode-notebook-cell:/home/kutsenko/projects/happywhale/test.ipynb#ch0000022?line=144'>145</a>\u001b[0m     ColorJitter(brightness\u001b[39m=\u001b[39m(brightness_min, brightness_max),\n\u001b[1;32m    <a href='vscode-notebook-cell:/home/kutsenko/projects/happywhale/test.ipynb#ch0000022?line=145'>146</a>\u001b[0m                 contrast\u001b[39m=\u001b[39m(contrast_min, contrast_max),\n\u001b[1;32m    <a href='vscode-notebook-cell:/home/kutsenko/projects/happywhale/test.ipynb#ch0000022?line=146'>147</a>\u001b[0m                 saturation\u001b[39m=\u001b[39m(saturation_min, saturation_max),\n\u001b[1;32m    <a href='vscode-notebook-cell:/home/kutsenko/projects/happywhale/test.ipynb#ch0000022?line=147'>148</a>\u001b[0m                 hue\u001b[39m=\u001b[39m(hue_min, hue_max),\n\u001b[1;32m    <a href='vscode-notebook-cell:/home/kutsenko/projects/happywhale/test.ipynb#ch0000022?line=148'>149</a>\u001b[0m                 p\u001b[39m=\u001b[39mcolor_jitter_p),\n\u001b[1;32m    <a href='vscode-notebook-cell:/home/kutsenko/projects/happywhale/test.ipynb#ch0000022?line=149'>150</a>\u001b[0m     \n\u001b[1;32m    <a href='vscode-notebook-cell:/home/kutsenko/projects/happywhale/test.ipynb#ch0000022?line=150'>151</a>\u001b[0m     AugmentationSequential(RandomThinPlateSpline(scale\u001b[39m=\u001b[39mth_plate_s, p\u001b[39m=\u001b[39mth_plate_p),\n\u001b[1;32m    <a href='vscode-notebook-cell:/home/kutsenko/projects/happywhale/test.ipynb#ch0000022?line=151'>152</a>\u001b[0m                            RandomRotation(degrees\u001b[39m=\u001b[39m(rotation_degree_min, rotation_degree_max), p\u001b[39m=\u001b[39mrotation_p),\n\u001b[1;32m    <a href='vscode-notebook-cell:/home/kutsenko/projects/happywhale/test.ipynb#ch0000022?line=152'>153</a>\u001b[0m                            RandomPerspective(distortion_scale\u001b[39m=\u001b[39mperspective_s, p\u001b[39m=\u001b[39mperspective_p),\n\u001b[1;32m    <a href='vscode-notebook-cell:/home/kutsenko/projects/happywhale/test.ipynb#ch0000022?line=153'>154</a>\u001b[0m                            random_apply\u001b[39m=\u001b[39m\u001b[39m1\u001b[39m),\n\u001b[1;32m    <a href='vscode-notebook-cell:/home/kutsenko/projects/happywhale/test.ipynb#ch0000022?line=154'>155</a>\u001b[0m     \n\u001b[1;32m    <a href='vscode-notebook-cell:/home/kutsenko/projects/happywhale/test.ipynb#ch0000022?line=155'>156</a>\u001b[0m     AugmentationSequential(RandomErasing(scale\u001b[39m=\u001b[39m(cutout1_s_min, cutout1_s_max), ratio\u001b[39m=\u001b[39m(\u001b[39m0.7\u001b[39m, \u001b[39m1.3\u001b[39m), value\u001b[39m=\u001b[39m\u001b[39m0.0\u001b[39m, p\u001b[39m=\u001b[39mcutout1_p),\n\u001b[1;32m    <a href='vscode-notebook-cell:/home/kutsenko/projects/happywhale/test.ipynb#ch0000022?line=156'>157</a>\u001b[0m                            RandomErasing(scale\u001b[39m=\u001b[39m(cutout2_s_min, cutout2_s_max), ratio\u001b[39m=\u001b[39m(\u001b[39m0.7\u001b[39m, \u001b[39m1.3\u001b[39m), value\u001b[39m=\u001b[39m\u001b[39m0.0\u001b[39m, p\u001b[39m=\u001b[39mcutout2_p),\n\u001b[1;32m    <a href='vscode-notebook-cell:/home/kutsenko/projects/happywhale/test.ipynb#ch0000022?line=157'>158</a>\u001b[0m                            )\n\u001b[1;32m    <a href='vscode-notebook-cell:/home/kutsenko/projects/happywhale/test.ipynb#ch0000022?line=158'>159</a>\u001b[0m )\n\u001b[1;32m    <a href='vscode-notebook-cell:/home/kutsenko/projects/happywhale/test.ipynb#ch0000022?line=159'>160</a>\u001b[0m \u001b[39mreturn\u001b[39;00m resolution\n",
      "\u001b[0;31mNameError\u001b[0m: name 'AugmentationSequential' is not defined"
     ]
    }
   ],
   "source": [
    "augmenter = ProgressiveAugmenter(AUG_SETTINGS)\n",
    "\n",
    "lr_scheduler = LrRampScheduler(\n",
    "                          lr_start=lr_start,\n",
    "                          lr_max=lr_max,\n",
    "                          lr_min=lr_min,\n",
    "                          lr_ramp_ep=lr_ramp_ep,\n",
    "                          lr_sus_ep=lr_sus_ep,\n",
    "                          lr_decay=lr_decay)"
   ]
  },
  {
   "cell_type": "code",
   "execution_count": null,
   "metadata": {},
   "outputs": [],
   "source": [
    "epochs = list(range(20))\n",
    "learning_rates = [lr_scheduler(x) for x in epochs]\n",
    "resolutions = [augmenter.update_augmentation_list(x) for x in epochs]\n",
    "\n"
   ]
  },
  {
   "cell_type": "code",
   "execution_count": 16,
   "metadata": {},
   "outputs": [
    {
     "data": {
      "image/png": "[encoded data removed]",
      "text/plain": [
       "<Figure size 432x288 with 1 Axes>"
      ]
     },
     "metadata": {
      "needs_background": "light"
     },
     "output_type": "display_data"
    }
   ],
   "source": [
    "plt.scatter(epochs,learning_rates)\n",
    "plt.show()"
   ]
  },
  {
   "cell_type": "code",
   "execution_count": 17,
   "metadata": {},
   "outputs": [
    {
     "data": {
      "image/png": "[encoded data removed]",
      "text/plain": [
       "<Figure size 432x288 with 1 Axes>"
      ]
     },
     "metadata": {
      "needs_background": "light"
     },
     "output_type": "display_data"
    }
   ],
   "source": [
    "plt.scatter(epochs,resolutions)\n",
    "plt.show()"
   ]
  },
  {
   "cell_type": "code",
   "execution_count": 1,
   "metadata": {},
   "outputs": [],
   "source": [
    "import pandas as pd"
   ]
  },
  {
   "cell_type": "code",
   "execution_count": 46,
   "metadata": {},
   "outputs": [],
   "source": [
    "test_df = pd.read_csv('test_neighbors2.csv', index_col=0)"
   ]
  },
  {
   "cell_type": "code",
   "execution_count": 3,
   "metadata": {},
   "outputs": [],
   "source": [
    "from tqdm.notebook import tqdm"
   ]
  },
  {
   "cell_type": "code",
   "execution_count": 26,
   "metadata": {},
   "outputs": [
    {
     "data": {
      "application/vnd.jupyter.widget-view+json": {
       "model_id": "79297add0d3b4953a8801c703836493a",
       "version_major": 2,
       "version_minor": 0
      },
      "text/plain": [
       "0it [00:00, ?it/s]"
      ]
     },
     "metadata": {},
     "output_type": "display_data"
    },
    {
     "data": {
      "application/vnd.jupyter.widget-view+json": {
       "model_id": "3832dfc057d34a49bbf77763b4771ef4",
       "version_major": 2,
       "version_minor": 0
      },
      "text/plain": [
       "  0%|          | 0/27956 [00:00<?, ?it/s]"
      ]
     },
     "metadata": {},
     "output_type": "display_data"
    },
    {
     "name": "stdout",
     "output_type": "stream",
     "text": [
      "[INFO] New individual share 0.063\n"
     ]
    }
   ],
   "source": [
    "sample_list = ['938b7e931166', '5bf17305f073', '7593d2aee842', '7362d7a01d00','956562ff2888']\n",
    "# exclude = ['37c7aba965a5', '114207cab555']\n",
    "\n",
    "n_new = 0\n",
    "predictions = {}\n",
    "for i,row in tqdm(test_df.iterrows()):\n",
    "    if row.image in predictions:\n",
    "        if len(predictions[row.image])==5:\n",
    "            continue\n",
    "        predictions[row.image].append(row.target)\n",
    "    elif row.confidence > 0.6 and row.target:\n",
    "        predictions[row.image] = [row.target,'new_individual']\n",
    "    else:\n",
    "        n_new += 1\n",
    "        predictions[row.image] = ['new_individual',row.target]\n",
    "        \n",
    "for x in tqdm(predictions):\n",
    "    if len(predictions[x])<5:\n",
    "        remaining = [y for y in sample_list if y not in predictions]\n",
    "        predictions[x] = predictions[x]+remaining\n",
    "        predictions[x] = predictions[x][:5]\n",
    "    predictions[x] = ' '.join(predictions[x])\n",
    "\n",
    "print(f'[INFO] New individual share {round(n_new / len(predictions), 3)}')\n",
    "\n",
    "predictions = pd.Series(predictions).reset_index()\n",
    "predictions.columns = ['image','predictions']\n",
    "predictions.to_csv('submission.csv', index=False)"
   ]
  },
  {
   "cell_type": "code",
   "execution_count": 60,
   "metadata": {},
   "outputs": [],
   "source": [
    "sample_list = ['new_individual', '5bf17305f073', '7593d2aee842', '7362d7a01d00','956562ff2888']\n",
    "exclude = ['37c7aba965a5', '114207cab555']"
   ]
  },
  {
   "cell_type": "code",
   "execution_count": 61,
   "metadata": {},
   "outputs": [
    {
     "data": {
      "application/vnd.jupyter.widget-view+json": {
       "model_id": "890124c4ad7749929dd20e0067cd4a74",
       "version_major": 2,
       "version_minor": 0
      },
      "text/plain": [
       "  0%|          | 0/27956 [00:00<?, ?it/s]"
      ]
     },
     "metadata": {},
     "output_type": "display_data"
    }
   ],
   "source": [
    "predictions = []\n",
    "\n",
    "for image, frame in tqdm(test_df.groupby('image')):\n",
    "    img_predictions = []\n",
    "\n",
    "    for i, pred in frame.iterrows():\n",
    "        if len(img_predictions) == 5:\n",
    "            break\n",
    "        if pred['target'] in exclude:\n",
    "            continue\n",
    "        if pred['confidence'] > 0.49:\n",
    "            img_predictions.append(pred['target'])\n",
    "        else:\n",
    "            if 'new_individual' in img_predictions:\n",
    "                img_predictions.append(pred['target'])\n",
    "            else:\n",
    "                img_predictions.append('new_individual')\n",
    "                \n",
    "        if len(img_predictions) < 5:\n",
    "            num_append = 5 - len(img_predictions)\n",
    "            for i in range(num_append):\n",
    "                img_predictions.append(sample_list[i])  \n",
    "        \n",
    "        if img_predictions[0] == 'new_individual':\n",
    "            n_new += 1\n",
    "    predictions.append({'image': image,\n",
    "                         'predictions': ' '.join(img_predictions)})\n",
    "\n",
    "\n",
    "pred_csv = pd.DataFrame(predictions)\n",
    "pred_csv.to_csv('submission.csv', index=False)\n",
    "    "
   ]
  },
  {
   "cell_type": "code",
   "execution_count": 62,
   "metadata": {},
   "outputs": [
    {
     "name": "stdout",
     "output_type": "stream",
     "text": [
      "[INFO] New individual share 0.146\n"
     ]
    }
   ],
   "source": [
    "print(f'[INFO] New individual share {round(n_new / len(predictions), 3)}')"
   ]
  },
  {
   "cell_type": "code",
   "execution_count": 63,
   "metadata": {},
   "outputs": [],
   "source": []
  },
  {
   "cell_type": "code",
   "execution_count": null,
   "metadata": {},
   "outputs": [],
   "source": []
  }
 ],
 "metadata": {
  "interpreter": {
   "hash": "a479fee58ddad8d5776fa539da594c69e29ceaa4b5647eb25d0dd86d97628ab7"
  },
  "kernelspec": {
   "display_name": "Python 3.7.11 ('whale_env')",
   "language": "python",
   "name": "python3"
  },
  "language_info": {
   "codemirror_mode": {
    "name": "ipython",
    "version": 3
   },
   "file_extension": ".py",
   "mimetype": "text/x-python",
   "name": "python",
   "nbconvert_exporter": "python",
   "pygments_lexer": "ipython3",
   "version": "3.9.10"
  },
  "orig_nbformat": 4
 },
 "nbformat": 4,
 "nbformat_minor": 2
}
