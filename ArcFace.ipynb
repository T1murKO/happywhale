{
 "cells": [
  {
   "cell_type": "markdown",
   "metadata": {},
   "source": [
    "# Imports"
   ]
  },
  {
   "cell_type": "code",
   "execution_count": 2,
   "metadata": {},
   "outputs": [],
   "source": [
    "from torchvision import datasets\n",
    "from torchvision import transforms as T\n",
    "import torch.nn.functional as F\n",
    "from torch.utils.data import DataLoader, Dataset\n",
    "from torchvision.models import resnext50_32x4d\n",
    "from sklearn.metrics import accuracy_score\n",
    "import torch\n",
    "import os\n",
    "from tqdm.notebook import tqdm\n",
    "from torch import nn, optim \n",
    "import math\n",
    "import imgaug.augmenters as iaa\n",
    "from random import randint, sample\n",
    "\n",
    "from PIL.Image import fromarray\n",
    "import cv2\n",
    "from scipy.spatial.distance import cosine\n",
    "import pandas as pd\n",
    "from sklearn.model_selection import train_test_split\n",
    "from os.path import join\n",
    "from torch import nn\n",
    "import numpy as np\n",
    "import json\n",
    "\n",
    "device = torch.device('cuda' if torch.cuda.is_available() else 'cpu')\n",
    "\n",
    "\n",
    "pwd = os.getcwd()"
   ]
  },
  {
   "cell_type": "markdown",
   "metadata": {},
   "source": [
    "# Model implementaion"
   ]
  },
  {
   "cell_type": "code",
   "execution_count": 3,
   "metadata": {},
   "outputs": [],
   "source": [
    "class AdaCos(nn.Module):\n",
    "    def __init__(self, feat_dim, num_classes, fixed_scale=False):\n",
    "        super(AdaCos, self).__init__()\n",
    "        self.fixed_scale = fixed_scale\n",
    "        self.scale = math.sqrt(2) * math.log(num_classes - 1)\n",
    "        self.W = nn.Parameter(torch.FloatTensor(num_classes, feat_dim))\n",
    "        nn.init.xavier_uniform_(self.W)\n",
    "        \n",
    "    def forward(self, feats, labels):\n",
    "        W = F.normalize(self.W)\n",
    "\n",
    "        logits = F.linear(feats, W)\n",
    "\n",
    "        theta = torch.acos(torch.clamp(logits, -1.0 + 1e-7, 1.0 - 1e-7))\n",
    "        one_hot = torch.zeros_like(logits)\n",
    "        one_hot.scatter_(1, labels.view(-1, 1).long(), 1)\n",
    "\n",
    "        if self.fixed_scale:\n",
    "            with torch.no_grad():\n",
    "                B_avg = torch.where(one_hot < 1, torch.exp(self.scale * logits), torch.zeros_like(logits))\n",
    "                B_avg = torch.sum(B_avg) / feats.size(0)\n",
    "                \n",
    "                theta_med = torch.median(theta[one_hot == 1])\n",
    "                self.scale = torch.log(B_avg) / torch.cos(torch.min(math.pi/4 * torch.ones_like(theta_med), theta_med))\n",
    "            \n",
    "        output = self.scale * logits\n",
    "        return output\n",
    "    \n",
    "    def get_logits(self, feats):\n",
    "        W = F.normalize(self.W)\n",
    "\n",
    "        logits = F.linear(feats, W)\n",
    "        return logits\n"
   ]
  },
  {
   "cell_type": "code",
   "execution_count": 4,
   "metadata": {},
   "outputs": [],
   "source": [
    "class ArcFace(nn.Module):\n",
    "     def __init__(self, feat_dim, num_class, margin_arc=0.5, margin_am=0.0, scale=30):\n",
    "         super(ArcFace, self).__init__()\n",
    "         self.weight = nn.Parameter(torch.Tensor(feat_dim, num_class))\n",
    "         self.weight.data.uniform_(-1, 1).renorm_(2, 1, 1e-5).mul_(1e5)\n",
    "         self.margin_arc = margin_arc\n",
    "         self.margin_am = margin_am\n",
    "         self.scale = scale\n",
    "         self.cos_margin = math.cos(margin_arc)\n",
    "         self.sin_margin = math.sin(margin_arc)\n",
    "         self.min_cos_theta = math.cos(math.pi - margin_arc)\n",
    "\n",
    "     def forward(self, feats, labels):\n",
    "         kernel_norm = F.normalize(self.weight, dim=0)\n",
    "         feats = F.normalize(feats)\n",
    "         cos_theta = torch.mm(feats, kernel_norm) \n",
    "         cos_theta = cos_theta.clamp(-1, 1)\n",
    "         sin_theta = torch.sqrt(1.0 - torch.pow(cos_theta, 2))\n",
    "         cos_theta_m = cos_theta * self.cos_margin - sin_theta * self.sin_margin\n",
    "         \n",
    "         cos_theta_m = torch.where(cos_theta > self.min_cos_theta, cos_theta_m, cos_theta-self.margin_am)\n",
    "         index = torch.zeros_like(cos_theta)\n",
    "\n",
    "         index.scatter_(1, labels.data.view(-1, 1), 1)\n",
    "         index = index.type(torch.bool)\n",
    "         output = cos_theta * 1.0\n",
    "         output[index] = cos_theta_m[index]\n",
    "         output *= self.scale\n",
    "\n",
    "\n",
    "         return output"
   ]
  },
  {
   "cell_type": "code",
   "execution_count": 5,
   "metadata": {},
   "outputs": [],
   "source": [
    "class GeM(nn.Module):\n",
    "    def __init__(self, p=3, eps=1e-6):\n",
    "        super(GeM,self).__init__()\n",
    "        self.p = nn.Parameter(torch.ones(1)*p)\n",
    "        self.eps = eps\n",
    "\n",
    "    def forward(self, x):\n",
    "        return self.gem(x, p=self.p, eps=self.eps)\n",
    "        \n",
    "    def gem(self, x, p=3, eps=1e-6):\n",
    "        return F.avg_pool2d(x.clamp(min=eps).pow(p), (x.size(-2), x.size(-1))).pow(1./p)\n",
    "        \n",
    "    def __repr__(self):\n",
    "        return self.__class__.__name__ + '(' + 'p=' + '{:.4f}'.format(self.p.data.tolist()[0]) + ', ' + 'eps=' + str(self.eps) + ')'"
   ]
  },
  {
   "cell_type": "code",
   "execution_count": 6,
   "metadata": {},
   "outputs": [],
   "source": [
    "class Net(nn.Module):\n",
    "    def __init__(self, num_classes):\n",
    "        super(Net, self).__init__()\n",
    "                \n",
    "        self.backbone = torch.nn.Sequential(*(list(resnext50_32x4d(pretrained=True).children())[:-2]))\n",
    "        self.gem_pool = GeM()\n",
    "        self.bn1 = nn.BatchNorm1d(2048)\n",
    "        self.fc1 = nn.Linear(2048, 512)\n",
    "        self.dropout = nn.Dropout(0.2)\n",
    "\n",
    "        self.arc_face = AdaCos(512, num_classes)\n",
    "        \n",
    "    def forward(self, x, targets = None):\n",
    "        x = torch.squeeze(torch.squeeze(self.gem_pool(self.backbone(x)), -1), -1)\n",
    "\n",
    "        x = F.relu(self.fc1(self.dropout(self.bn1(x))))\n",
    "        x = F.normalize(x)\n",
    "        \n",
    "        if targets is not None:\n",
    "            logits = self.arc_face(x, targets)\n",
    "            return logits\n",
    "\n",
    "        return x\n",
    "    \n",
    "    def get_logits(self, x):\n",
    "        x = self.gem_pool(self.backbone(x))\n",
    "        x = torch.unsqueeze(torch.squeeze(x), 0)\n",
    "        x = F.relu(self.fc1(self.dropout(self.bn1(x))))\n",
    "        x = F.normalize(x)\n",
    "\n",
    "        logits = self.arc_face.get_logits(x)\n",
    "        return logits\n",
    "        \n",
    "input_size = (256, 256)"
   ]
  },
  {
   "cell_type": "markdown",
   "metadata": {},
   "source": [
    "# PyTorch class wrapper for training"
   ]
  },
  {
   "cell_type": "code",
   "execution_count": 7,
   "metadata": {},
   "outputs": [],
   "source": [
    "class Trainer():\n",
    "    \n",
    "    def __init__(self, criterion = None, optimizer = None, device = None, start_epoch=0):\n",
    "        self.criterion = criterion\n",
    "        self.optimizer = optimizer\n",
    "        self.device = device\n",
    "        self.start_epoch = start_epoch\n",
    "        \n",
    "        \n",
    "    def accuracy(self, logits, labels):\n",
    "        ps = torch.argmax(logits,dim = 1).detach().cpu().numpy()\n",
    "        acc = accuracy_score(ps,labels.detach().cpu().numpy())\n",
    "        return acc\n",
    "\n",
    "        \n",
    "    def train_batch_loop(self, model, train_loader, i, save_path=None, log_path=None):\n",
    "        \n",
    "        epoch_loss = 0.0\n",
    "        epoch_acc = 0.0\n",
    "        pbar_train = tqdm(train_loader, desc=\"Epoch\" + \" [TRAIN] \" + str(i+1))\n",
    "        batch_num = len(pbar_train)\n",
    "        for it, data in enumerate(pbar_train):\n",
    "            \n",
    "            images, labels = data\n",
    "            images = images.to(device)\n",
    "            labels = labels.to(device)\n",
    "            \n",
    "            logits = model(images, labels)\n",
    "            loss = self.criterion(logits,labels)\n",
    "            \n",
    "            self.optimizer.zero_grad()\n",
    "            loss.backward()\n",
    "            self.optimizer.step()\n",
    "            \n",
    "            epoch_loss += loss.item()\n",
    "            epoch_acc += self.accuracy(logits, labels)\n",
    "            \n",
    "            postfix = {'loss' : round(float(epoch_loss/(it+1)), 4), 'acc' : float(epoch_acc/(it+1))}\n",
    "            pbar_train.set_postfix(postfix)\n",
    "            \n",
    "            if save_path is not None:\n",
    "                if it % 100 == 99:\n",
    "                    with open(log_path + 'train_log.txt', 'a') as f:\n",
    "                        f.write(f'B# {it+1}/{batch_num}, Loss: {round(float(epoch_loss/(it+1)), 4)}, Acc: {round(float(epoch_acc/(it+1)), 4)} \\n')\n",
    "                \n",
    "            \n",
    "        return epoch_loss / len(train_loader), epoch_acc / len(train_loader)\n",
    "            \n",
    "    \n",
    "    def valid_batch_loop(self, model, valid_loader, i, save_path=None):\n",
    "        \n",
    "        epoch_loss = 0.0\n",
    "        epoch_acc = 0.0\n",
    "        pbar_valid = tqdm(valid_loader, desc = \"Epoch\" + \" [VALID] \" + str(i+1))\n",
    "        batch_num = len(pbar_valid)\n",
    "        \n",
    "        for it, data in enumerate(pbar_valid):\n",
    "            \n",
    "            images,labels = data\n",
    "            images = images.to(device)\n",
    "            labels = labels.to(device)\n",
    "            \n",
    "            logits = model(images, labels)\n",
    "            loss = self.criterion(logits, labels)\n",
    "            \n",
    "            epoch_loss += loss.item()\n",
    "            epoch_acc += self.accuracy(logits, labels)\n",
    "            \n",
    "            postfix = {'loss' : round(float(epoch_loss/(it+1)), 4), 'acc' : float(epoch_acc/(it+1))}\n",
    "            pbar_valid.set_postfix(postfix)\n",
    "            \n",
    "            \n",
    "            if save_path is not None:\n",
    "                if it % 200 == 199:\n",
    "                    with open(save_path + 'valid_log.txt', 'a') as f:\n",
    "                        f.write(f'B# {it+1}/{batch_num}, Loss: {round(float(epoch_loss/(it+1)), 4)}, Acc: {round(float(epoch_acc/(it+1)), 4)} \\n')\n",
    "            \n",
    "        return epoch_loss / len(valid_loader), epoch_acc / len(valid_loader)\n",
    "            \n",
    "    \n",
    "    def run(self, model, train_loader, valid_loader=None, schedule=None, epochs=1, save_path=None):\n",
    "        if not os.path.exists(save_path) and save_path is not None:\n",
    "            os.mkdir(save_path)\n",
    "        \n",
    "        if schedule is not None:\n",
    "            if len(schedule) != epochs:\n",
    "                raise Exception('Scedule lenght must be equal epoch num')\n",
    "        \n",
    "        \n",
    "        for i in range(self.start_epoch, self.start_epoch + epochs, 1):\n",
    "            if save_path is not None:\n",
    "                \n",
    "                with open(save_path + 'train_log.txt', 'a') as f:\n",
    "                        f.write(f'---- EPOCH {i} ----\\n')\n",
    "                \n",
    "                epoch_save_path = join(save_path, f'epoch_{i}/')\n",
    "                if not os.path.exists(epoch_save_path):\n",
    "                    os.mkdir(epoch_save_path)\n",
    "            else:\n",
    "                epoch_save_path = None\n",
    "            \n",
    "            if schedule is not None:\n",
    "                for g in self.optimizer.param_groups:\n",
    "                    g['lr'] = schedule[i]\n",
    "            \n",
    "            model.train()\n",
    "            avg_train_loss, avg_train_acc = self.train_batch_loop(model, train_loader, i, save_path=epoch_save_path, log_path=save_path)\n",
    "            \n",
    "            if save_path is not None:\n",
    "                torch.save(model, epoch_save_path + 'model.pth')\n",
    "            \n",
    "            if valid_loader is not None:\n",
    "                model.eval()\n",
    "                avg_valid_loss, avg_valid_acc = self.valid_batch_loop(model, valid_loader, i, save_path=epoch_save_path)\n",
    "            \n",
    "        return model\n",
    "    \n",
    "    def run_eval(self, model, data_lodaer):\n",
    "        model.eval()\n",
    "        avg_valid_loss, avg_valid_acc = self.valid_batch_loop(model, data_lodaer, 0)\n",
    "        return avg_valid_loss, avg_valid_acc"
   ]
  },
  {
   "cell_type": "markdown",
   "metadata": {},
   "source": [
    "# Custom image dataset, loading from csv table"
   ]
  },
  {
   "cell_type": "code",
   "execution_count": 8,
   "metadata": {},
   "outputs": [],
   "source": [
    "class ImageDataset(Dataset):\n",
    "  def __init__(self, csv, img_folder, transform=None):\n",
    "    self.transform = transform\n",
    "    self.img_folder = img_folder\n",
    "     \n",
    "    self.images = csv['image']\n",
    "    self.targets = csv['Y']\n",
    "   \n",
    "\n",
    "  def __len__(self):\n",
    "    return len(self.images)\n",
    " \n",
    "\n",
    "  def __getitem__(self, index):\n",
    "\n",
    "    image = cv2.cvtColor(cv2.imread(join(self.img_folder, self.images[index])), cv2.COLOR_BGR2RGB)\n",
    "    target = self.targets[index]\n",
    "     \n",
    "    if self.transform is not None:\n",
    "        image = self.transform(image)\n",
    "    \n",
    "    return image, target"
   ]
  },
  {
   "cell_type": "code",
   "execution_count": 9,
   "metadata": {},
   "outputs": [],
   "source": [
    "csv_path = join(pwd, 'data/train.csv')\n",
    "img_data = join(pwd, '../train_images-256-256')"
   ]
  },
  {
   "cell_type": "markdown",
   "metadata": {},
   "source": [
    "# Data loader and augmentaion"
   ]
  },
  {
   "cell_type": "code",
   "execution_count": 10,
   "metadata": {},
   "outputs": [],
   "source": [
    "data_csv = pd.read_csv(csv_path)\n",
    "\n",
    "transforms_list = T.Compose([             \n",
    "    iaa.Sequential([\n",
    "        # iaa.Sequential([\n",
    "        # iaa.Sometimes(0.3, iaa.AverageBlur(k=(3,3))),\n",
    "        # iaa.Sometimes(0.3, iaa.MotionBlur(k=(3,5))),\n",
    "        # iaa.Add((-10, 10), per_channel=0.5),\n",
    "        # iaa.Multiply((0.9, 1.1), per_channel=0.5),\n",
    "        # iaa.Sometimes(0.3, iaa.Affine(\n",
    "        #     scale={'x': (0.9,1.1), 'y': (0.9,1.1)},\n",
    "        #     translate_percent={'x': (-0.05,0.05), 'y': (-0.05,0.05)},\n",
    "        #     shear=(-10,10),\n",
    "        #     rotate=(-10,10)\n",
    "        #     )),\n",
    "        # iaa.Sometimes(0.3, iaa.Grayscale(alpha=(0.8,1.0))),\n",
    "        # ], random_order=True),\n",
    "        iaa.size.Resize(input_size, interpolation='cubic')\n",
    "    ]).augment_image,     \n",
    "    T.ToTensor()\n",
    "])\n",
    "\n",
    "train_dataset = ImageDataset(data_csv,\n",
    "                             img_data,\n",
    "                             transform=transforms_list)"
   ]
  },
  {
   "cell_type": "code",
   "execution_count": 14,
   "metadata": {},
   "outputs": [
    {
     "data": {
      "text/plain": [
       "torch.Tensor"
      ]
     },
     "execution_count": 14,
     "metadata": {},
     "output_type": "execute_result"
    }
   ],
   "source": [
    "type(train_dataset[0][0])"
   ]
  },
  {
   "cell_type": "code",
   "execution_count": 14,
   "metadata": {},
   "outputs": [],
   "source": [
    "a = torch.randn(3, 100, 100)\n",
    "b = torch.randn(1, 100, 100)"
   ]
  },
  {
   "cell_type": "code",
   "execution_count": 17,
   "metadata": {},
   "outputs": [],
   "source": [
    "b = torch.randn(1, 100, 100)\n",
    "c = torch.cat((a, b), dim=0)"
   ]
  },
  {
   "cell_type": "code",
   "execution_count": 17,
   "metadata": {},
   "outputs": [],
   "source": [
    "# x = train_dataset[7]\n",
    "# x = x[0].permute(1, 2, 0).numpy()\n",
    "# x = (x * 255.).astype('uint8')\n",
    "# fromarray(x)"
   ]
  },
  {
   "cell_type": "markdown",
   "metadata": {},
   "source": [
    "# Training settings and LR scheduler"
   ]
  },
  {
   "cell_type": "code",
   "execution_count": 18,
   "metadata": {},
   "outputs": [],
   "source": [
    "batch_size = 48\n",
    "start_epoch = 0\n",
    "num_epochs = 20\n",
    "lr = 0.0001\n",
    "# schedule = [0.001, 0.00075, 0.0005]\n",
    "num_classes = data_csv['individual_id'].nunique()\n",
    "save_path = join(pwd, '../models/renet_50')\n",
    "lr_start   = 0.000001\n",
    "lr_max     = 0.000005 * batch_size\n",
    "lr_min     = 0.000001\n",
    "lr_ramp_ep = 4\n",
    "lr_sus_ep  = 0\n",
    "lr_decay   = 0.9\n",
    "\n",
    "\n",
    "train_loader = DataLoader(train_dataset, batch_size = batch_size, shuffle=True)"
   ]
  },
  {
   "cell_type": "code",
   "execution_count": 19,
   "metadata": {},
   "outputs": [],
   "source": [
    "def lrfn(epoch):\n",
    "    if start_epoch != 0:\n",
    "        epoch = epoch + start_epoch\n",
    "    if epoch < lr_ramp_ep:\n",
    "        lr = (lr_max - lr_start) / lr_ramp_ep * epoch + lr_start\n",
    "        \n",
    "    elif epoch < lr_ramp_ep + lr_sus_ep:\n",
    "        lr = lr_max\n",
    "        \n",
    "    else:\n",
    "        lr = (lr_max - lr_min) * lr_decay**(epoch - lr_ramp_ep - lr_sus_ep) + lr_min\n",
    "        \n",
    "    return lr"
   ]
  },
  {
   "cell_type": "code",
   "execution_count": 23,
   "metadata": {},
   "outputs": [],
   "source": [
    "schedule = [lrfn(i) for i in range(num_epochs)]"
   ]
  },
  {
   "cell_type": "code",
   "execution_count": 24,
   "metadata": {},
   "outputs": [],
   "source": [
    "model = Net(num_classes=num_classes).to(device)\n",
    "# model = torch.load('/content/models//model.pth')\n",
    "criterion = nn.CrossEntropyLoss()\n",
    "optimizer = optim.Adam(model.parameters(), lr=lr)\n",
    "\n",
    "trainer = Trainer(criterion=criterion,\n",
    "                  optimizer=optimizer,\n",
    "                  device=device,\n",
    "                  start_epoch=start_epoch)"
   ]
  },
  {
   "cell_type": "code",
   "execution_count": null,
   "metadata": {},
   "outputs": [],
   "source": [
    "trainer.run(model, train_loader, epochs=num_epochs, save_path=save_path, schedule=schedule)"
   ]
  },
  {
   "cell_type": "markdown",
   "metadata": {},
   "source": [
    "# Predict stage ... to be done ..."
   ]
  },
  {
   "cell_type": "code",
   "execution_count": 20,
   "metadata": {},
   "outputs": [],
   "source": [
    "model = torch.load('/content/resnet_50_ada_cos/epoch_19/model.pth').to(device)\n",
    "model.eval();"
   ]
  },
  {
   "cell_type": "code",
   "execution_count": 15,
   "metadata": {},
   "outputs": [
    {
     "data": {
      "application/vnd.jupyter.widget-view+json": {
       "model_id": "f26a71de480d424bbeb88037a38cab55",
       "version_major": 2,
       "version_minor": 0
      },
      "text/plain": [
       "  0%|          | 0/27956 [00:00<?, ?it/s]"
      ]
     },
     "metadata": {},
     "output_type": "display_data"
    }
   ],
   "source": [
    "# submsission = []\n",
    "# img_path = '/content/test_images-256-256/'\n",
    "\n",
    "# model.eval();\n",
    "\n",
    "\n",
    "# for img_n in tqdm(os.listdir(img_path)):\n",
    "#     img = cv2.cvtColor(cv2.imread(img_path + img_n), cv2.COLOR_BGR2RGB)\n",
    "#     input = torch.unsqueeze(transforms_list(img), 0).to(device)\n",
    "    \n",
    "#     logits = model.get_logits(input).detach().cpu().numpy()\n",
    "#     predict_individuials = np.argsort(logits[0])[::-1][:5]\n",
    "\n",
    "#     predictions = ' '.join([individial_mapping[i] for i in predict_individuials])\n",
    "\n",
    "\n",
    "#     submsission.append({'image': img_n, 'predictions': predictions})"
   ]
  },
  {
   "cell_type": "code",
   "execution_count": 32,
   "metadata": {},
   "outputs": [],
   "source": [
    "transforms_list_eval = T.Compose([             \n",
    "    iaa.Sequential([\n",
    "        iaa.size.Resize(input_size, interpolation='cubic')\n",
    "    ]).augment_image,     \n",
    "    T.ToTensor()\n",
    "])\n",
    "\n",
    "def get_embedding(img_path):\n",
    "    img = cv2.cvtColor(cv2.imread(img_path), cv2.COLOR_BGR2RGB)\n",
    "    input = torch.unsqueeze(transforms_list_eval(img), 0).to(device)\n",
    "    embed = model(input).detach().cpu().numpy()\n",
    "\n",
    "    return embed"
   ]
  },
  {
   "cell_type": "code",
   "execution_count": 22,
   "metadata": {},
   "outputs": [
    {
     "data": {
      "application/vnd.jupyter.widget-view+json": {
       "model_id": "bcb52bc511bd46d2bf897102ea6282c0",
       "version_major": 2,
       "version_minor": 0
      },
      "text/plain": [
       "  0%|          | 0/51033 [00:00<?, ?it/s]"
      ]
     },
     "metadata": {},
     "output_type": "display_data"
    }
   ],
   "source": [
    "train_folder = '/content/train_images-256-256/'\n",
    "\n",
    "img_to_target = json.loads(open('/content/happywhale/data/img_to_target.json', 'r').read())\n",
    "\n",
    "train_targets = []\n",
    "train_embeddings = []\n",
    "for filename in tqdm(os.listdir(train_folder)):\n",
    "    embeddings = get_embedding(join(train_folder, filename))\n",
    "    targets = img_to_target[filename]\n",
    "    train_embeddings.append(embeddings)\n",
    "    train_targets.append(targets)\n",
    "\n",
    "train_embeddings = np.array(train_embeddings)\n",
    "train_targets = np.array(train_targets)"
   ]
  },
  {
   "cell_type": "code",
   "execution_count": 24,
   "metadata": {},
   "outputs": [
    {
     "data": {
      "text/plain": [
       "NearestNeighbors(metric='cosine', n_neighbors=75)"
      ]
     },
     "execution_count": 24,
     "metadata": {},
     "output_type": "execute_result"
    }
   ],
   "source": [
    "from sklearn.neighbors import NearestNeighbors\n",
    "neigh = NearestNeighbors(n_neighbors=75,metric='cosine')\n",
    "neigh.fit(train_embeddings)"
   ]
  },
  {
   "cell_type": "code",
   "execution_count": 33,
   "metadata": {},
   "outputs": [
    {
     "data": {
      "application/vnd.jupyter.widget-view+json": {
       "model_id": "73b30c156371459e9b9345ec14511ed0",
       "version_major": 2,
       "version_minor": 0
      },
      "text/plain": [
       "  0%|          | 0/27956 [00:00<?, ?it/s]"
      ]
     },
     "metadata": {},
     "output_type": "display_data"
    }
   ],
   "source": [
    "test_folder = '/content/test_images-256-256'\n",
    "img_to_target = json.loads(open('/content/happywhale/data/img_to_id.json', 'r').read())\n",
    "\n",
    "test_ids = []\n",
    "test_nn_distances = []\n",
    "test_nn_idxs = []\n",
    "for filename in tqdm(os.listdir(test_folder)):\n",
    "    embedding = get_embedding(join(test_folder, filename))\n",
    "    id = filename\n",
    "    embedding = embedding\n",
    "    distance,idx = neigh.kneighbors(embedding, 75, return_distance=True)\n",
    "    test_ids.append(id)\n",
    "    test_nn_idxs.append(idx)\n",
    "    test_nn_distances.append(distance)\n",
    "\n",
    "test_nn_distances = np.array(test_nn_distances)\n",
    "test_nn_idxs = np.array(test_nn_idxs)\n",
    "test_ids = np.array(test_ids)"
   ]
  },
  {
   "cell_type": "code",
   "execution_count": 42,
   "metadata": {},
   "outputs": [],
   "source": [
    "test_nn_idxs = np.squeeze(test_nn_idxs)\n",
    "test_nn_distances = np.squeeze(np.array(test_nn_distances))"
   ]
  },
  {
   "cell_type": "code",
   "execution_count": 43,
   "metadata": {},
   "outputs": [
    {
     "data": {
      "application/vnd.jupyter.widget-view+json": {
       "model_id": "4ec591aa47584b47907c6d46b6c4f494",
       "version_major": 2,
       "version_minor": 0
      },
      "text/plain": [
       "  0%|          | 0/27956 [00:00<?, ?it/s]"
      ]
     },
     "metadata": {},
     "output_type": "display_data"
    }
   ],
   "source": [
    "test_df = []\n",
    "for i in tqdm(range(len(test_ids))):\n",
    "    id_ = test_ids[i]\n",
    "    targets = train_targets[test_nn_idxs[i]]\n",
    "    distances = test_nn_distances[i]\n",
    "    subset_preds = pd.DataFrame(np.stack([targets,distances],axis=1),columns=['target','distances'])\n",
    "    subset_preds['image'] = id_\n",
    "    test_df.append(subset_preds)\n",
    "test_df = pd.concat(test_df).reset_index(drop=True)\n",
    "test_df['confidence'] = 1-test_df['distances']\n",
    "test_df = test_df.groupby(['image','target']).confidence.max().reset_index()\n",
    "test_df = test_df.sort_values('confidence',ascending=False).reset_index(drop=True)\n"
   ]
  },
  {
   "cell_type": "code",
   "execution_count": 48,
   "metadata": {},
   "outputs": [
    {
     "data": {
      "text/plain": [
       "6     908\n",
       "5     850\n",
       "7     806\n",
       "4     779\n",
       "8     769\n",
       "     ... \n",
       "66    233\n",
       "63    225\n",
       "64    219\n",
       "75    215\n",
       "65    197\n",
       "Name: image, Length: 75, dtype: int64"
      ]
     },
     "execution_count": 48,
     "metadata": {},
     "output_type": "execute_result"
    }
   ],
   "source": [
    "test_df['target'] = test_df['target'].map(target_to_id)\n",
    "test_df.to_csv('test_neighbors.csv')\n",
    "test_df.image.value_counts().value_counts()"
   ]
  },
  {
   "cell_type": "code",
   "execution_count": 63,
   "metadata": {},
   "outputs": [],
   "source": [
    "sample_list = ['938b7e931166', '5bf17305f073', '7593d2aee842', '7362d7a01d00','956562ff2888']"
   ]
  },
  {
   "cell_type": "code",
   "execution_count": 64,
   "metadata": {},
   "outputs": [
    {
     "data": {
      "application/vnd.jupyter.widget-view+json": {
       "model_id": "3130ee6df5bc4502855070d8f2902e93",
       "version_major": 2,
       "version_minor": 0
      },
      "text/plain": [
       "0it [00:00, ?it/s]"
      ]
     },
     "metadata": {},
     "output_type": "display_data"
    },
    {
     "data": {
      "application/vnd.jupyter.widget-view+json": {
       "model_id": "4606f80f83ea4f36a01d523f64968c01",
       "version_major": 2,
       "version_minor": 0
      },
      "text/plain": [
       "  0%|          | 0/27956 [00:00<?, ?it/s]"
      ]
     },
     "metadata": {},
     "output_type": "display_data"
    },
    {
     "data": {
      "text/html": [
       "<div>\n",
       "<style scoped>\n",
       "    .dataframe tbody tr th:only-of-type {\n",
       "        vertical-align: middle;\n",
       "    }\n",
       "\n",
       "    .dataframe tbody tr th {\n",
       "        vertical-align: top;\n",
       "    }\n",
       "\n",
       "    .dataframe thead th {\n",
       "        text-align: right;\n",
       "    }\n",
       "</style>\n",
       "<table border=\"1\" class=\"dataframe\">\n",
       "  <thead>\n",
       "    <tr style=\"text-align: right;\">\n",
       "      <th></th>\n",
       "      <th>image</th>\n",
       "      <th>predictions</th>\n",
       "    </tr>\n",
       "  </thead>\n",
       "  <tbody>\n",
       "    <tr>\n",
       "      <th>0</th>\n",
       "      <td>a3a9c424ef9f06.jpg</td>\n",
       "      <td>0ed88187dcb5 new_individual fae17af3c2ae ee6f7...</td>\n",
       "    </tr>\n",
       "    <tr>\n",
       "      <th>1</th>\n",
       "      <td>0cfc88bad51a18.jpg</td>\n",
       "      <td>e4a55c745bd9 new_individual bba489ffa50e fd15f...</td>\n",
       "    </tr>\n",
       "    <tr>\n",
       "      <th>2</th>\n",
       "      <td>dd806b5d0f42e1.jpg</td>\n",
       "      <td>13e453fd9598 new_individual 89721d0ca3ce 46d7e...</td>\n",
       "    </tr>\n",
       "    <tr>\n",
       "      <th>3</th>\n",
       "      <td>88c7679e578227.jpg</td>\n",
       "      <td>f1e6c5118903 new_individual 0423be5f9ace 7ec76...</td>\n",
       "    </tr>\n",
       "    <tr>\n",
       "      <th>4</th>\n",
       "      <td>ff57a132b59395.jpg</td>\n",
       "      <td>9f750b3dd09d new_individual fa7cd80276aa 399f0...</td>\n",
       "    </tr>\n",
       "  </tbody>\n",
       "</table>\n",
       "</div>"
      ],
      "text/plain": [
       "                image                                        predictions\n",
       "0  a3a9c424ef9f06.jpg  0ed88187dcb5 new_individual fae17af3c2ae ee6f7...\n",
       "1  0cfc88bad51a18.jpg  e4a55c745bd9 new_individual bba489ffa50e fd15f...\n",
       "2  dd806b5d0f42e1.jpg  13e453fd9598 new_individual 89721d0ca3ce 46d7e...\n",
       "3  88c7679e578227.jpg  f1e6c5118903 new_individual 0423be5f9ace 7ec76...\n",
       "4  ff57a132b59395.jpg  9f750b3dd09d new_individual fa7cd80276aa 399f0..."
      ]
     },
     "execution_count": 64,
     "metadata": {},
     "output_type": "execute_result"
    }
   ],
   "source": [
    "predictions = {}\n",
    "for i,row in tqdm(test_df.iterrows()):\n",
    "    if row.image in predictions:\n",
    "        if len(predictions[row.image])==5:\n",
    "            continue\n",
    "        predictions[row.image].append(row.target)\n",
    "    elif row.confidence>0.65:\n",
    "        predictions[row.image] = [row.target,'new_individual']\n",
    "    else:\n",
    "        predictions[row.image] = ['new_individual',row.target]\n",
    "        \n",
    "for x in tqdm(predictions):\n",
    "    if len(predictions[x])<5:\n",
    "        remaining = [y for y in sample_list if y not in predictions]\n",
    "        predictions[x] = predictions[x]+remaining\n",
    "        predictions[x] = predictions[x][:5]\n",
    "    predictions[x] = ' '.join(predictions[x])\n",
    "    \n",
    "predictions = pd.Series(predictions).reset_index()\n",
    "predictions.columns = ['image','predictions']\n",
    "predictions.to_csv('submission.csv',index=False)\n",
    "predictions.head()"
   ]
  }
 ],
 "metadata": {
  "interpreter": {
   "hash": "31f2aee4e71d21fbe5cf8b01ff0e069b9275f58929596ceb00d14d90e3e16cd6"
  },
  "kernelspec": {
   "display_name": "Python 3.7.12 64-bit",
   "language": "python",
   "name": "python3"
  },
  "language_info": {
   "codemirror_mode": {
    "name": "ipython",
    "version": 3
   },
   "file_extension": ".py",
   "mimetype": "text/x-python",
   "name": "python",
   "nbconvert_exporter": "python",
   "pygments_lexer": "ipython3",
   "version": "3.7.12"
  },
  "orig_nbformat": 4
 },
 "nbformat": 4,
 "nbformat_minor": 2
}
