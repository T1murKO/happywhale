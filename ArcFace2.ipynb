{
 "cells": [
  {
   "cell_type": "code",
   "execution_count": 3,
   "metadata": {},
   "outputs": [],
   "source": [
    "from torchvision import datasets\n",
    "from torchvision import transforms as T\n",
    "import torch.nn.functional as F\n",
    "from torch.utils.data import DataLoader, Dataset\n",
    "from torchvision.models import resnext50_32x4d\n",
    "from sklearn.metrics import accuracy_score\n",
    "import torch\n",
    "import os\n",
    "from tqdm.notebook import tqdm\n",
    "from torch import nn, optim \n",
    "import math\n",
    "import imgaug.augmenters as iaa\n",
    "from random import randint, sample\n",
    "\n",
    "from PIL.Image import fromarray\n",
    "import cv2\n",
    "from scipy.spatial.distance import cosine\n",
    "import pandas as pd\n",
    "from sklearn.model_selection import train_test_split\n",
    "from os.path import join\n",
    "from torch import nn\n",
    "import numpy as np\n",
    "\n",
    "device = torch.device('cuda' if torch.cuda.is_available() else 'cpu')\n",
    "\n",
    "\n",
    "pwd = os.getcwd()"
   ]
  },
  {
   "cell_type": "code",
   "execution_count": 4,
   "metadata": {},
   "outputs": [],
   "source": [
    "class AdaCos(nn.Module):\n",
    "    def __init__(self, feat_dim, num_classes, fixed_scale=False):\n",
    "        super(AdaCos, self).__init__()\n",
    "        self.fixed_scale = fixed_scale\n",
    "        self.scale = math.sqrt(2) * math.log(num_classes - 1)\n",
    "        self.W = nn.Parameter(torch.FloatTensor(num_classes, feat_dim))\n",
    "        nn.init.xavier_uniform_(self.W)\n",
    "        \n",
    "    def forward(self, feats, labels):\n",
    "        W = F.normalize(self.W)\n",
    "\n",
    "        logits = F.linear(feats, W)\n",
    "\n",
    "        theta = torch.acos(torch.clamp(logits, -1.0 + 1e-7, 1.0 - 1e-7))\n",
    "        one_hot = torch.zeros_like(logits)\n",
    "        one_hot.scatter_(1, labels.view(-1, 1).long(), 1)\n",
    "\n",
    "        if self.fixed_scale:\n",
    "            with torch.no_grad():\n",
    "                B_avg = torch.where(one_hot < 1, torch.exp(self.scale * logits), torch.zeros_like(logits))\n",
    "                B_avg = torch.sum(B_avg) / feats.size(0)\n",
    "                \n",
    "                theta_med = torch.median(theta[one_hot == 1])\n",
    "                self.scale = torch.log(B_avg) / torch.cos(torch.min(math.pi/4 * torch.ones_like(theta_med), theta_med))\n",
    "            \n",
    "        output = self.scale * logits\n",
    "        return output\n",
    "    \n",
    "    def get_logits(self, feats):\n",
    "        W = F.normalize(self.W)\n",
    "\n",
    "        logits = F.linear(feats, W)\n",
    "        return logits\n"
   ]
  },
  {
   "cell_type": "code",
   "execution_count": 5,
   "metadata": {},
   "outputs": [],
   "source": [
    "class ArcFace(nn.Module):\n",
    "     def __init__(self, feat_dim, num_class, margin_arc=0.5, margin_am=0.0, scale=30):\n",
    "         super(ArcFace, self).__init__()\n",
    "         self.weight = nn.Parameter(torch.Tensor(feat_dim, num_class))\n",
    "         self.weight.data.uniform_(-1, 1).renorm_(2, 1, 1e-5).mul_(1e5)\n",
    "         self.margin_arc = margin_arc\n",
    "         self.margin_am = margin_am\n",
    "         self.scale = scale\n",
    "         self.cos_margin = math.cos(margin_arc)\n",
    "         self.sin_margin = math.sin(margin_arc)\n",
    "         self.min_cos_theta = math.cos(math.pi - margin_arc)\n",
    "\n",
    "     def forward(self, feats, labels):\n",
    "         kernel_norm = F.normalize(self.weight, dim=0)\n",
    "         feats = F.normalize(feats)\n",
    "         cos_theta = torch.mm(feats, kernel_norm) \n",
    "         cos_theta = cos_theta.clamp(-1, 1)\n",
    "         sin_theta = torch.sqrt(1.0 - torch.pow(cos_theta, 2))\n",
    "         cos_theta_m = cos_theta * self.cos_margin - sin_theta * self.sin_margin\n",
    "         \n",
    "         cos_theta_m = torch.where(cos_theta > self.min_cos_theta, cos_theta_m, cos_theta-self.margin_am)\n",
    "         index = torch.zeros_like(cos_theta)\n",
    "\n",
    "         index.scatter_(1, labels.data.view(-1, 1), 1)\n",
    "         index = index.type(torch.bool)\n",
    "         output = cos_theta * 1.0\n",
    "         output[index] = cos_theta_m[index]\n",
    "         output *= self.scale\n",
    "\n",
    "\n",
    "         return output"
   ]
  },
  {
   "cell_type": "code",
   "execution_count": 6,
   "metadata": {},
   "outputs": [],
   "source": [
    "class GeM(nn.Module):\n",
    "    def __init__(self, p=3, eps=1e-6):\n",
    "        super(GeM,self).__init__()\n",
    "        self.p = nn.Parameter(torch.ones(1)*p)\n",
    "        self.eps = eps\n",
    "\n",
    "    def forward(self, x):\n",
    "        return self.gem(x, p=self.p, eps=self.eps)\n",
    "        \n",
    "    def gem(self, x, p=3, eps=1e-6):\n",
    "        return F.avg_pool2d(x.clamp(min=eps).pow(p), (x.size(-2), x.size(-1))).pow(1./p)\n",
    "        \n",
    "    def __repr__(self):\n",
    "        return self.__class__.__name__ + '(' + 'p=' + '{:.4f}'.format(self.p.data.tolist()[0]) + ', ' + 'eps=' + str(self.eps) + ')'"
   ]
  },
  {
   "cell_type": "code",
   "execution_count": 7,
   "metadata": {},
   "outputs": [],
   "source": [
    "class Net(nn.Module):\n",
    "    def __init__(self, num_classes):\n",
    "        super(Net, self).__init__()\n",
    "                \n",
    "        self.backbone = torch.nn.Sequential(*(list(resnext50_32x4d(pretrained=True).children())[:-2]))\n",
    "        self.gem_pool = GeM()\n",
    "        self.bn1 = nn.BatchNorm1d(2048)\n",
    "        self.fc1 = nn.Linear(2048, 512)\n",
    "        self.dropout = nn.Dropout(0.2)\n",
    "\n",
    "        self.arc_face = AdaCos(512, num_classes)\n",
    "        \n",
    "    def forward(self, x, targets = None):\n",
    "        x = torch.squeeze(self.gem_pool(self.backbone(x)))\n",
    "\n",
    "        x = F.relu(self.fc1(self.dropout(self.bn1(x))))\n",
    "        x = F.normalize(x)\n",
    "        \n",
    "        if targets is not None:\n",
    "            logits = self.arc_face(x, targets)\n",
    "            return logits\n",
    "\n",
    "        return x\n",
    "    \n",
    "    def get_logits(self, x):\n",
    "        x = self.gem_pool(self.backbone(x))\n",
    "        x = torch.unsqueeze(torch.squeeze(x), 0)\n",
    "        x = F.relu(self.fc1(self.dropout(self.bn1(x))))\n",
    "        x = F.normalize(x)\n",
    "\n",
    "        logits = self.arc_face.get_logits(x)\n",
    "        return logits\n",
    "        \n",
    "input_size = (256, 256)"
   ]
  },
  {
   "cell_type": "code",
   "execution_count": 8,
   "metadata": {},
   "outputs": [],
   "source": [
    "class Trainer():\n",
    "    \n",
    "    def __init__(self, criterion = None, optimizer = None, device = None, start_epoch=0):\n",
    "        self.criterion = criterion\n",
    "        self.optimizer = optimizer\n",
    "        self.device = device\n",
    "        self.start_epoch = start_epoch\n",
    "        \n",
    "        \n",
    "    def accuracy(self, logits, labels):\n",
    "        ps = torch.argmax(logits,dim = 1).detach().cpu().numpy()\n",
    "        acc = accuracy_score(ps,labels.detach().cpu().numpy())\n",
    "        return acc\n",
    "\n",
    "        \n",
    "    def train_batch_loop(self, model, train_loader, i, save_path=None):\n",
    "        \n",
    "        epoch_loss = 0.0\n",
    "        epoch_acc = 0.0\n",
    "        pbar_train = tqdm(train_loader, desc=\"Epoch\" + \" [TRAIN] \" + str(i+1))\n",
    "        batch_num = len(pbar_train)\n",
    "        for it, data in enumerate(pbar_train):\n",
    "            \n",
    "            images, labels = data\n",
    "            images = images.to(device)\n",
    "            labels = labels.to(device)\n",
    "            \n",
    "            logits = model(images, labels)\n",
    "            loss = self.criterion(logits,labels)\n",
    "            \n",
    "            self.optimizer.zero_grad()\n",
    "            loss.backward()\n",
    "            self.optimizer.step()\n",
    "            \n",
    "            epoch_loss += loss.item()\n",
    "            epoch_acc += self.accuracy(logits, labels)\n",
    "            \n",
    "            postfix = {'loss' : round(float(epoch_loss/(it+1)), 4), 'acc' : float(epoch_acc/(it+1))}\n",
    "            pbar_train.set_postfix(postfix)\n",
    "            \n",
    "            if save_path is not None:\n",
    "                if it % 200 == 199:\n",
    "                    with open(save_path + 'train_log.txt', 'a') as f:\n",
    "                        f.write(f'B# {it+1}/{batch_num}, Loss: {round(float(epoch_loss/(it+1)), 4)}, Acc: {round(float(epoch_acc/(it+1)), 4)} \\n')\n",
    "                \n",
    "                if it % 2000 == 999:\n",
    "                    torch.save(model, save_path + 'model_.pth')\n",
    "                \n",
    "            \n",
    "        return epoch_loss / len(train_loader), epoch_acc / len(train_loader)\n",
    "            \n",
    "    \n",
    "    def valid_batch_loop(self, model, valid_loader, i, save_path=None):\n",
    "        \n",
    "        epoch_loss = 0.0\n",
    "        epoch_acc = 0.0\n",
    "        pbar_valid = tqdm(valid_loader, desc = \"Epoch\" + \" [VALID] \" + str(i+1))\n",
    "        batch_num = len(pbar_valid)\n",
    "        \n",
    "        for it, data in enumerate(pbar_valid):\n",
    "            \n",
    "            images,labels = data\n",
    "            images = images.to(device)\n",
    "            labels = labels.to(device)\n",
    "            \n",
    "            logits = model(images, labels)\n",
    "            loss = self.criterion(logits, labels)\n",
    "            \n",
    "            epoch_loss += loss.item()\n",
    "            epoch_acc += self.accuracy(logits, labels)\n",
    "            \n",
    "            postfix = {'loss' : round(float(epoch_loss/(it+1)), 4), 'acc' : float(epoch_acc/(it+1))}\n",
    "            pbar_valid.set_postfix(postfix)\n",
    "            \n",
    "            \n",
    "            if save_path is not None:\n",
    "                if it % 200 == 199:\n",
    "                    with open(save_path + 'valid_log.txt', 'a') as f:\n",
    "                        f.write(f'B# {it+1}/{batch_num}, Loss: {round(float(epoch_loss/(it+1)), 4)}, Acc: {round(float(epoch_acc/(it+1)), 4)} \\n')\n",
    "            \n",
    "        return epoch_loss / len(valid_loader), epoch_acc / len(valid_loader)\n",
    "            \n",
    "    \n",
    "    def run(self, model, train_loader, valid_loader=None, schedule=None, epochs=1, save_path=None):\n",
    "        if not os.path.exists(save_path) and save_path is not None:\n",
    "            os.mkdir(save_path)\n",
    "        \n",
    "        if schedule is not None:\n",
    "            if len(schedule) != epochs:\n",
    "                raise Exception('Scedule lenght must be equal epoch num')\n",
    "        \n",
    "        \n",
    "        for i in range(self.start_epoch, self.start_epoch + epochs, 1):\n",
    "            if save_path is not None:\n",
    "                epoch_save_path = join(save_path, f'epoch_{i}/')\n",
    "                if not os.path.exists(epoch_save_path):\n",
    "                    os.mkdir(epoch_save_path)\n",
    "            else:\n",
    "                epoch_save_path = None\n",
    "            \n",
    "            if schedule is not None:\n",
    "                for g in self.optimizer.param_groups:\n",
    "                    g['lr'] = schedule[i]\n",
    "            \n",
    "            model.train()\n",
    "            avg_train_loss, avg_train_acc = self.train_batch_loop(model, train_loader, i, save_path=epoch_save_path)\n",
    "            \n",
    "            if save_path is not None:\n",
    "                torch.save(model, epoch_save_path + 'model.pth')\n",
    "            \n",
    "            if valid_loader is not None:\n",
    "                model.eval()\n",
    "                avg_valid_loss, avg_valid_acc = self.valid_batch_loop(model, valid_loader, i, save_path=epoch_save_path)\n",
    "            \n",
    "        return model\n",
    "    \n",
    "    def run_eval(self, model, data_lodaer):\n",
    "        model.eval()\n",
    "        avg_valid_loss, avg_valid_acc = self.valid_batch_loop(model, data_lodaer, 0)\n",
    "        return avg_valid_loss, avg_valid_acc"
   ]
  },
  {
   "cell_type": "code",
   "execution_count": 9,
   "metadata": {},
   "outputs": [],
   "source": [
    "class ImageDataset(Dataset):\n",
    "  def __init__(self, csv, img_folder, transform=None):\n",
    "    self.transform = transform\n",
    "    self.img_folder = img_folder\n",
    "     \n",
    "    self.images = csv['image']\n",
    "    self.targets = csv['Y']\n",
    "   \n",
    "\n",
    "  def __len__(self):\n",
    "    return len(self.images)\n",
    " \n",
    "\n",
    "  def __getitem__(self, index):\n",
    "\n",
    "    image = cv2.cvtColor(cv2.imread(join(self.img_folder, self.images[index])), cv2.COLOR_BGR2RGB)\n",
    "    target = self.targets[index]\n",
    "     \n",
    "    if self.transform is not None:\n",
    "        image = self.transform(image)\n",
    "    \n",
    "    return image, target"
   ]
  },
  {
   "cell_type": "code",
   "execution_count": 10,
   "metadata": {},
   "outputs": [],
   "source": [
    "csv_path = join(pwd, 'csv/train.csv')\n",
    "img_data = join(pwd, '../train_images-256-256')"
   ]
  },
  {
   "cell_type": "code",
   "execution_count": 11,
   "metadata": {},
   "outputs": [],
   "source": [
    "data_csv = pd.read_csv(csv_path)\n",
    "\n",
    "transforms_list = T.Compose([             \n",
    "    iaa.Sequential([\n",
    "        iaa.Sequential([\n",
    "        iaa.Sometimes(0.3, iaa.AverageBlur(k=(3,3))),\n",
    "        iaa.Sometimes(0.3, iaa.MotionBlur(k=(3,5))),\n",
    "        iaa.Add((-10, 10), per_channel=0.5),\n",
    "        iaa.Multiply((0.9, 1.1), per_channel=0.5),\n",
    "        iaa.Sometimes(0.3, iaa.Affine(\n",
    "            scale={'x': (0.9,1.1), 'y': (0.9,1.1)},\n",
    "            translate_percent={'x': (-0.05,0.05), 'y': (-0.05,0.05)},\n",
    "            shear=(-10,10),\n",
    "            rotate=(-10,10)\n",
    "            )),\n",
    "        iaa.Sometimes(0.3, iaa.Grayscale(alpha=(0.8,1.0))),\n",
    "        ], random_order=True),\n",
    "        iaa.size.Resize(input_size, interpolation='cubic')\n",
    "    ]).augment_image,     \n",
    "    T.ToTensor()\n",
    "])\n",
    "\n",
    "train_dataset = ImageDataset(data_csv,\n",
    "                             img_data,\n",
    "                             transform=transforms_list)"
   ]
  },
  {
   "cell_type": "code",
   "execution_count": 20,
   "metadata": {},
   "outputs": [],
   "source": [
    "# x = train_dataset[7]\n",
    "# x = x[0].permute(1, 2, 0).numpy()\n",
    "# x = (x * 255.).astype('uint8')\n",
    "# fromarray(x)"
   ]
  },
  {
   "cell_type": "code",
   "execution_count": 21,
   "metadata": {},
   "outputs": [],
   "source": [
    "batch_size = 48\n",
    "start_epoch = 0\n",
    "num_epochs = 20\n",
    "lr = 0.0001\n",
    "# schedule = [0.001, 0.00075, 0.0005]\n",
    "num_classes = data_csv['individual_id'].nunique()\n",
    "save_path = join(pwd, '../models/renet_50')\n",
    "lr_start   = 0.000001\n",
    "lr_max     = 0.000005 * batch_size\n",
    "lr_min     = 0.000001\n",
    "lr_ramp_ep = 4\n",
    "lr_sus_ep  = 0\n",
    "lr_decay   = 0.9\n",
    "\n",
    "\n",
    "train_loader = DataLoader(train_dataset, batch_size = batch_size, shuffle=True)"
   ]
  },
  {
   "cell_type": "code",
   "execution_count": 22,
   "metadata": {},
   "outputs": [],
   "source": [
    "def lrfn(epoch):\n",
    "    if start_epoch != 0:\n",
    "        epoch = epoch + start_epoch\n",
    "    if epoch < lr_ramp_ep:\n",
    "        lr = (lr_max - lr_start) / lr_ramp_ep * epoch + lr_start\n",
    "        \n",
    "    elif epoch < lr_ramp_ep + lr_sus_ep:\n",
    "        lr = lr_max\n",
    "        \n",
    "    else:\n",
    "        lr = (lr_max - lr_min) * lr_decay**(epoch - lr_ramp_ep - lr_sus_ep) + lr_min\n",
    "        \n",
    "    return lr"
   ]
  },
  {
   "cell_type": "code",
   "execution_count": 23,
   "metadata": {},
   "outputs": [],
   "source": [
    "schedule = [lrfn(i) for i in range(num_epochs)]"
   ]
  },
  {
   "cell_type": "code",
   "execution_count": 24,
   "metadata": {},
   "outputs": [],
   "source": [
    "model = Net(num_classes=num_classes).to(device)\n",
    "# model = torch.load('/content/models//model.pth')\n",
    "criterion = nn.CrossEntropyLoss()\n",
    "optimizer = optim.Adam(model.parameters(), lr=lr)\n",
    "\n",
    "trainer = Trainer(criterion=criterion,\n",
    "                  optimizer=optimizer,\n",
    "                  device=device,\n",
    "                  start_epoch=start_epoch)"
   ]
  },
  {
   "cell_type": "code",
   "execution_count": 25,
   "metadata": {},
   "outputs": [
    {
     "data": {
      "application/vnd.jupyter.widget-view+json": {
       "model_id": "70cd25de7d8e42e18358595a25aecb12",
       "version_major": 2,
       "version_minor": 0
      },
      "text/plain": [
       "Epoch [TRAIN] 1:   0%|          | 0/1064 [00:00<?, ?it/s]"
      ]
     },
     "metadata": {},
     "output_type": "display_data"
    },
    {
     "data": {
      "application/vnd.jupyter.widget-view+json": {
       "model_id": "8c8650ee49dd486aa9fedddbd09f4f1e",
       "version_major": 2,
       "version_minor": 0
      },
      "text/plain": [
       "Epoch [TRAIN] 2:   0%|          | 0/1064 [00:00<?, ?it/s]"
      ]
     },
     "metadata": {},
     "output_type": "display_data"
    },
    {
     "data": {
      "application/vnd.jupyter.widget-view+json": {
       "model_id": "d5d729006aeb489989af19b37349e0f6",
       "version_major": 2,
       "version_minor": 0
      },
      "text/plain": [
       "Epoch [TRAIN] 3:   0%|          | 0/1064 [00:00<?, ?it/s]"
      ]
     },
     "metadata": {},
     "output_type": "display_data"
    },
    {
     "data": {
      "application/vnd.jupyter.widget-view+json": {
       "model_id": "d97e16fd6c2b46bd9c8aa27f3727dac7",
       "version_major": 2,
       "version_minor": 0
      },
      "text/plain": [
       "Epoch [TRAIN] 4:   0%|          | 0/1064 [00:00<?, ?it/s]"
      ]
     },
     "metadata": {},
     "output_type": "display_data"
    },
    {
     "data": {
      "application/vnd.jupyter.widget-view+json": {
       "model_id": "b86a9f11894749cabe5eaf45fc287114",
       "version_major": 2,
       "version_minor": 0
      },
      "text/plain": [
       "Epoch [TRAIN] 5:   0%|          | 0/1064 [00:00<?, ?it/s]"
      ]
     },
     "metadata": {},
     "output_type": "display_data"
    },
    {
     "data": {
      "application/vnd.jupyter.widget-view+json": {
       "model_id": "a1ad559b22a4480a9efb0f6a974355a8",
       "version_major": 2,
       "version_minor": 0
      },
      "text/plain": [
       "Epoch [TRAIN] 6:   0%|          | 0/1064 [00:00<?, ?it/s]"
      ]
     },
     "metadata": {},
     "output_type": "display_data"
    },
    {
     "data": {
      "application/vnd.jupyter.widget-view+json": {
       "model_id": "60e6bac296dc4b4e94108da55c3b0fb5",
       "version_major": 2,
       "version_minor": 0
      },
      "text/plain": [
       "Epoch [TRAIN] 7:   0%|          | 0/1064 [00:00<?, ?it/s]"
      ]
     },
     "metadata": {},
     "output_type": "display_data"
    },
    {
     "data": {
      "application/vnd.jupyter.widget-view+json": {
       "model_id": "4abbb7f4ad154a638ec5026aea7dedec",
       "version_major": 2,
       "version_minor": 0
      },
      "text/plain": [
       "Epoch [TRAIN] 8:   0%|          | 0/1064 [00:00<?, ?it/s]"
      ]
     },
     "metadata": {},
     "output_type": "display_data"
    },
    {
     "data": {
      "application/vnd.jupyter.widget-view+json": {
       "model_id": "75b01d7d24a547f3b2117a9dd24c7cf4",
       "version_major": 2,
       "version_minor": 0
      },
      "text/plain": [
       "Epoch [TRAIN] 9:   0%|          | 0/1064 [00:00<?, ?it/s]"
      ]
     },
     "metadata": {},
     "output_type": "display_data"
    },
    {
     "data": {
      "application/vnd.jupyter.widget-view+json": {
       "model_id": "2ca375b865ca47f4bf5d034e45d03850",
       "version_major": 2,
       "version_minor": 0
      },
      "text/plain": [
       "Epoch [TRAIN] 10:   0%|          | 0/1064 [00:00<?, ?it/s]"
      ]
     },
     "metadata": {},
     "output_type": "display_data"
    },
    {
     "data": {
      "application/vnd.jupyter.widget-view+json": {
       "model_id": "73b2db71fb9e4dc4bfefc84428c84626",
       "version_major": 2,
       "version_minor": 0
      },
      "text/plain": [
       "Epoch [TRAIN] 11:   0%|          | 0/1064 [00:00<?, ?it/s]"
      ]
     },
     "metadata": {},
     "output_type": "display_data"
    },
    {
     "data": {
      "application/vnd.jupyter.widget-view+json": {
       "model_id": "39c48ee05d344cb09dd011b799653f8e",
       "version_major": 2,
       "version_minor": 0
      },
      "text/plain": [
       "Epoch [TRAIN] 12:   0%|          | 0/1064 [00:00<?, ?it/s]"
      ]
     },
     "metadata": {},
     "output_type": "display_data"
    },
    {
     "data": {
      "application/vnd.jupyter.widget-view+json": {
       "model_id": "8ddcc3a24f634298a70ce282e34e4cd8",
       "version_major": 2,
       "version_minor": 0
      },
      "text/plain": [
       "Epoch [TRAIN] 13:   0%|          | 0/1064 [00:00<?, ?it/s]"
      ]
     },
     "metadata": {},
     "output_type": "display_data"
    },
    {
     "data": {
      "application/vnd.jupyter.widget-view+json": {
       "model_id": "ce7c49efaf02420d961223e2f7ad037c",
       "version_major": 2,
       "version_minor": 0
      },
      "text/plain": [
       "Epoch [TRAIN] 14:   0%|          | 0/1064 [00:00<?, ?it/s]"
      ]
     },
     "metadata": {},
     "output_type": "display_data"
    },
    {
     "data": {
      "application/vnd.jupyter.widget-view+json": {
       "model_id": "ea0b572ac79d4879afd3f532532e5d4a",
       "version_major": 2,
       "version_minor": 0
      },
      "text/plain": [
       "Epoch [TRAIN] 15:   0%|          | 0/1064 [00:00<?, ?it/s]"
      ]
     },
     "metadata": {},
     "output_type": "display_data"
    },
    {
     "data": {
      "application/vnd.jupyter.widget-view+json": {
       "model_id": "de425d284b9e4c4fa70b29da63510eca",
       "version_major": 2,
       "version_minor": 0
      },
      "text/plain": [
       "Epoch [TRAIN] 16:   0%|          | 0/1064 [00:00<?, ?it/s]"
      ]
     },
     "metadata": {},
     "output_type": "display_data"
    },
    {
     "data": {
      "application/vnd.jupyter.widget-view+json": {
       "model_id": "ab15991f6ad644bda5bf32548d4533b7",
       "version_major": 2,
       "version_minor": 0
      },
      "text/plain": [
       "Epoch [TRAIN] 17:   0%|          | 0/1064 [00:00<?, ?it/s]"
      ]
     },
     "metadata": {},
     "output_type": "display_data"
    },
    {
     "data": {
      "application/vnd.jupyter.widget-view+json": {
       "model_id": "5a4709e4ebb84cf4823afbaa409a6d5c",
       "version_major": 2,
       "version_minor": 0
      },
      "text/plain": [
       "Epoch [TRAIN] 18:   0%|          | 0/1064 [00:00<?, ?it/s]"
      ]
     },
     "metadata": {},
     "output_type": "display_data"
    },
    {
     "data": {
      "application/vnd.jupyter.widget-view+json": {
       "model_id": "6a717d661328444ab3539110fd87fe9f",
       "version_major": 2,
       "version_minor": 0
      },
      "text/plain": [
       "Epoch [TRAIN] 19:   0%|          | 0/1064 [00:00<?, ?it/s]"
      ]
     },
     "metadata": {},
     "output_type": "display_data"
    },
    {
     "data": {
      "application/vnd.jupyter.widget-view+json": {
       "model_id": "5a8b27d0a9ab49b29dcceb5a28f7aed3",
       "version_major": 2,
       "version_minor": 0
      },
      "text/plain": [
       "Epoch [TRAIN] 20:   0%|          | 0/1064 [00:00<?, ?it/s]"
      ]
     },
     "metadata": {},
     "output_type": "display_data"
    },
    {
     "data": {
      "text/plain": [
       "Net(\n",
       "  (backbone): Sequential(\n",
       "    (0): Conv2d(3, 64, kernel_size=(7, 7), stride=(2, 2), padding=(3, 3), bias=False)\n",
       "    (1): BatchNorm2d(64, eps=1e-05, momentum=0.1, affine=True, track_running_stats=True)\n",
       "    (2): ReLU(inplace=True)\n",
       "    (3): MaxPool2d(kernel_size=3, stride=2, padding=1, dilation=1, ceil_mode=False)\n",
       "    (4): Sequential(\n",
       "      (0): Bottleneck(\n",
       "        (conv1): Conv2d(64, 128, kernel_size=(1, 1), stride=(1, 1), bias=False)\n",
       "        (bn1): BatchNorm2d(128, eps=1e-05, momentum=0.1, affine=True, track_running_stats=True)\n",
       "        (conv2): Conv2d(128, 128, kernel_size=(3, 3), stride=(1, 1), padding=(1, 1), groups=32, bias=False)\n",
       "        (bn2): BatchNorm2d(128, eps=1e-05, momentum=0.1, affine=True, track_running_stats=True)\n",
       "        (conv3): Conv2d(128, 256, kernel_size=(1, 1), stride=(1, 1), bias=False)\n",
       "        (bn3): BatchNorm2d(256, eps=1e-05, momentum=0.1, affine=True, track_running_stats=True)\n",
       "        (relu): ReLU(inplace=True)\n",
       "        (downsample): Sequential(\n",
       "          (0): Conv2d(64, 256, kernel_size=(1, 1), stride=(1, 1), bias=False)\n",
       "          (1): BatchNorm2d(256, eps=1e-05, momentum=0.1, affine=True, track_running_stats=True)\n",
       "        )\n",
       "      )\n",
       "      (1): Bottleneck(\n",
       "        (conv1): Conv2d(256, 128, kernel_size=(1, 1), stride=(1, 1), bias=False)\n",
       "        (bn1): BatchNorm2d(128, eps=1e-05, momentum=0.1, affine=True, track_running_stats=True)\n",
       "        (conv2): Conv2d(128, 128, kernel_size=(3, 3), stride=(1, 1), padding=(1, 1), groups=32, bias=False)\n",
       "        (bn2): BatchNorm2d(128, eps=1e-05, momentum=0.1, affine=True, track_running_stats=True)\n",
       "        (conv3): Conv2d(128, 256, kernel_size=(1, 1), stride=(1, 1), bias=False)\n",
       "        (bn3): BatchNorm2d(256, eps=1e-05, momentum=0.1, affine=True, track_running_stats=True)\n",
       "        (relu): ReLU(inplace=True)\n",
       "      )\n",
       "      (2): Bottleneck(\n",
       "        (conv1): Conv2d(256, 128, kernel_size=(1, 1), stride=(1, 1), bias=False)\n",
       "        (bn1): BatchNorm2d(128, eps=1e-05, momentum=0.1, affine=True, track_running_stats=True)\n",
       "        (conv2): Conv2d(128, 128, kernel_size=(3, 3), stride=(1, 1), padding=(1, 1), groups=32, bias=False)\n",
       "        (bn2): BatchNorm2d(128, eps=1e-05, momentum=0.1, affine=True, track_running_stats=True)\n",
       "        (conv3): Conv2d(128, 256, kernel_size=(1, 1), stride=(1, 1), bias=False)\n",
       "        (bn3): BatchNorm2d(256, eps=1e-05, momentum=0.1, affine=True, track_running_stats=True)\n",
       "        (relu): ReLU(inplace=True)\n",
       "      )\n",
       "    )\n",
       "    (5): Sequential(\n",
       "      (0): Bottleneck(\n",
       "        (conv1): Conv2d(256, 256, kernel_size=(1, 1), stride=(1, 1), bias=False)\n",
       "        (bn1): BatchNorm2d(256, eps=1e-05, momentum=0.1, affine=True, track_running_stats=True)\n",
       "        (conv2): Conv2d(256, 256, kernel_size=(3, 3), stride=(2, 2), padding=(1, 1), groups=32, bias=False)\n",
       "        (bn2): BatchNorm2d(256, eps=1e-05, momentum=0.1, affine=True, track_running_stats=True)\n",
       "        (conv3): Conv2d(256, 512, kernel_size=(1, 1), stride=(1, 1), bias=False)\n",
       "        (bn3): BatchNorm2d(512, eps=1e-05, momentum=0.1, affine=True, track_running_stats=True)\n",
       "        (relu): ReLU(inplace=True)\n",
       "        (downsample): Sequential(\n",
       "          (0): Conv2d(256, 512, kernel_size=(1, 1), stride=(2, 2), bias=False)\n",
       "          (1): BatchNorm2d(512, eps=1e-05, momentum=0.1, affine=True, track_running_stats=True)\n",
       "        )\n",
       "      )\n",
       "      (1): Bottleneck(\n",
       "        (conv1): Conv2d(512, 256, kernel_size=(1, 1), stride=(1, 1), bias=False)\n",
       "        (bn1): BatchNorm2d(256, eps=1e-05, momentum=0.1, affine=True, track_running_stats=True)\n",
       "        (conv2): Conv2d(256, 256, kernel_size=(3, 3), stride=(1, 1), padding=(1, 1), groups=32, bias=False)\n",
       "        (bn2): BatchNorm2d(256, eps=1e-05, momentum=0.1, affine=True, track_running_stats=True)\n",
       "        (conv3): Conv2d(256, 512, kernel_size=(1, 1), stride=(1, 1), bias=False)\n",
       "        (bn3): BatchNorm2d(512, eps=1e-05, momentum=0.1, affine=True, track_running_stats=True)\n",
       "        (relu): ReLU(inplace=True)\n",
       "      )\n",
       "      (2): Bottleneck(\n",
       "        (conv1): Conv2d(512, 256, kernel_size=(1, 1), stride=(1, 1), bias=False)\n",
       "        (bn1): BatchNorm2d(256, eps=1e-05, momentum=0.1, affine=True, track_running_stats=True)\n",
       "        (conv2): Conv2d(256, 256, kernel_size=(3, 3), stride=(1, 1), padding=(1, 1), groups=32, bias=False)\n",
       "        (bn2): BatchNorm2d(256, eps=1e-05, momentum=0.1, affine=True, track_running_stats=True)\n",
       "        (conv3): Conv2d(256, 512, kernel_size=(1, 1), stride=(1, 1), bias=False)\n",
       "        (bn3): BatchNorm2d(512, eps=1e-05, momentum=0.1, affine=True, track_running_stats=True)\n",
       "        (relu): ReLU(inplace=True)\n",
       "      )\n",
       "      (3): Bottleneck(\n",
       "        (conv1): Conv2d(512, 256, kernel_size=(1, 1), stride=(1, 1), bias=False)\n",
       "        (bn1): BatchNorm2d(256, eps=1e-05, momentum=0.1, affine=True, track_running_stats=True)\n",
       "        (conv2): Conv2d(256, 256, kernel_size=(3, 3), stride=(1, 1), padding=(1, 1), groups=32, bias=False)\n",
       "        (bn2): BatchNorm2d(256, eps=1e-05, momentum=0.1, affine=True, track_running_stats=True)\n",
       "        (conv3): Conv2d(256, 512, kernel_size=(1, 1), stride=(1, 1), bias=False)\n",
       "        (bn3): BatchNorm2d(512, eps=1e-05, momentum=0.1, affine=True, track_running_stats=True)\n",
       "        (relu): ReLU(inplace=True)\n",
       "      )\n",
       "    )\n",
       "    (6): Sequential(\n",
       "      (0): Bottleneck(\n",
       "        (conv1): Conv2d(512, 512, kernel_size=(1, 1), stride=(1, 1), bias=False)\n",
       "        (bn1): BatchNorm2d(512, eps=1e-05, momentum=0.1, affine=True, track_running_stats=True)\n",
       "        (conv2): Conv2d(512, 512, kernel_size=(3, 3), stride=(2, 2), padding=(1, 1), groups=32, bias=False)\n",
       "        (bn2): BatchNorm2d(512, eps=1e-05, momentum=0.1, affine=True, track_running_stats=True)\n",
       "        (conv3): Conv2d(512, 1024, kernel_size=(1, 1), stride=(1, 1), bias=False)\n",
       "        (bn3): BatchNorm2d(1024, eps=1e-05, momentum=0.1, affine=True, track_running_stats=True)\n",
       "        (relu): ReLU(inplace=True)\n",
       "        (downsample): Sequential(\n",
       "          (0): Conv2d(512, 1024, kernel_size=(1, 1), stride=(2, 2), bias=False)\n",
       "          (1): BatchNorm2d(1024, eps=1e-05, momentum=0.1, affine=True, track_running_stats=True)\n",
       "        )\n",
       "      )\n",
       "      (1): Bottleneck(\n",
       "        (conv1): Conv2d(1024, 512, kernel_size=(1, 1), stride=(1, 1), bias=False)\n",
       "        (bn1): BatchNorm2d(512, eps=1e-05, momentum=0.1, affine=True, track_running_stats=True)\n",
       "        (conv2): Conv2d(512, 512, kernel_size=(3, 3), stride=(1, 1), padding=(1, 1), groups=32, bias=False)\n",
       "        (bn2): BatchNorm2d(512, eps=1e-05, momentum=0.1, affine=True, track_running_stats=True)\n",
       "        (conv3): Conv2d(512, 1024, kernel_size=(1, 1), stride=(1, 1), bias=False)\n",
       "        (bn3): BatchNorm2d(1024, eps=1e-05, momentum=0.1, affine=True, track_running_stats=True)\n",
       "        (relu): ReLU(inplace=True)\n",
       "      )\n",
       "      (2): Bottleneck(\n",
       "        (conv1): Conv2d(1024, 512, kernel_size=(1, 1), stride=(1, 1), bias=False)\n",
       "        (bn1): BatchNorm2d(512, eps=1e-05, momentum=0.1, affine=True, track_running_stats=True)\n",
       "        (conv2): Conv2d(512, 512, kernel_size=(3, 3), stride=(1, 1), padding=(1, 1), groups=32, bias=False)\n",
       "        (bn2): BatchNorm2d(512, eps=1e-05, momentum=0.1, affine=True, track_running_stats=True)\n",
       "        (conv3): Conv2d(512, 1024, kernel_size=(1, 1), stride=(1, 1), bias=False)\n",
       "        (bn3): BatchNorm2d(1024, eps=1e-05, momentum=0.1, affine=True, track_running_stats=True)\n",
       "        (relu): ReLU(inplace=True)\n",
       "      )\n",
       "      (3): Bottleneck(\n",
       "        (conv1): Conv2d(1024, 512, kernel_size=(1, 1), stride=(1, 1), bias=False)\n",
       "        (bn1): BatchNorm2d(512, eps=1e-05, momentum=0.1, affine=True, track_running_stats=True)\n",
       "        (conv2): Conv2d(512, 512, kernel_size=(3, 3), stride=(1, 1), padding=(1, 1), groups=32, bias=False)\n",
       "        (bn2): BatchNorm2d(512, eps=1e-05, momentum=0.1, affine=True, track_running_stats=True)\n",
       "        (conv3): Conv2d(512, 1024, kernel_size=(1, 1), stride=(1, 1), bias=False)\n",
       "        (bn3): BatchNorm2d(1024, eps=1e-05, momentum=0.1, affine=True, track_running_stats=True)\n",
       "        (relu): ReLU(inplace=True)\n",
       "      )\n",
       "      (4): Bottleneck(\n",
       "        (conv1): Conv2d(1024, 512, kernel_size=(1, 1), stride=(1, 1), bias=False)\n",
       "        (bn1): BatchNorm2d(512, eps=1e-05, momentum=0.1, affine=True, track_running_stats=True)\n",
       "        (conv2): Conv2d(512, 512, kernel_size=(3, 3), stride=(1, 1), padding=(1, 1), groups=32, bias=False)\n",
       "        (bn2): BatchNorm2d(512, eps=1e-05, momentum=0.1, affine=True, track_running_stats=True)\n",
       "        (conv3): Conv2d(512, 1024, kernel_size=(1, 1), stride=(1, 1), bias=False)\n",
       "        (bn3): BatchNorm2d(1024, eps=1e-05, momentum=0.1, affine=True, track_running_stats=True)\n",
       "        (relu): ReLU(inplace=True)\n",
       "      )\n",
       "      (5): Bottleneck(\n",
       "        (conv1): Conv2d(1024, 512, kernel_size=(1, 1), stride=(1, 1), bias=False)\n",
       "        (bn1): BatchNorm2d(512, eps=1e-05, momentum=0.1, affine=True, track_running_stats=True)\n",
       "        (conv2): Conv2d(512, 512, kernel_size=(3, 3), stride=(1, 1), padding=(1, 1), groups=32, bias=False)\n",
       "        (bn2): BatchNorm2d(512, eps=1e-05, momentum=0.1, affine=True, track_running_stats=True)\n",
       "        (conv3): Conv2d(512, 1024, kernel_size=(1, 1), stride=(1, 1), bias=False)\n",
       "        (bn3): BatchNorm2d(1024, eps=1e-05, momentum=0.1, affine=True, track_running_stats=True)\n",
       "        (relu): ReLU(inplace=True)\n",
       "      )\n",
       "    )\n",
       "    (7): Sequential(\n",
       "      (0): Bottleneck(\n",
       "        (conv1): Conv2d(1024, 1024, kernel_size=(1, 1), stride=(1, 1), bias=False)\n",
       "        (bn1): BatchNorm2d(1024, eps=1e-05, momentum=0.1, affine=True, track_running_stats=True)\n",
       "        (conv2): Conv2d(1024, 1024, kernel_size=(3, 3), stride=(2, 2), padding=(1, 1), groups=32, bias=False)\n",
       "        (bn2): BatchNorm2d(1024, eps=1e-05, momentum=0.1, affine=True, track_running_stats=True)\n",
       "        (conv3): Conv2d(1024, 2048, kernel_size=(1, 1), stride=(1, 1), bias=False)\n",
       "        (bn3): BatchNorm2d(2048, eps=1e-05, momentum=0.1, affine=True, track_running_stats=True)\n",
       "        (relu): ReLU(inplace=True)\n",
       "        (downsample): Sequential(\n",
       "          (0): Conv2d(1024, 2048, kernel_size=(1, 1), stride=(2, 2), bias=False)\n",
       "          (1): BatchNorm2d(2048, eps=1e-05, momentum=0.1, affine=True, track_running_stats=True)\n",
       "        )\n",
       "      )\n",
       "      (1): Bottleneck(\n",
       "        (conv1): Conv2d(2048, 1024, kernel_size=(1, 1), stride=(1, 1), bias=False)\n",
       "        (bn1): BatchNorm2d(1024, eps=1e-05, momentum=0.1, affine=True, track_running_stats=True)\n",
       "        (conv2): Conv2d(1024, 1024, kernel_size=(3, 3), stride=(1, 1), padding=(1, 1), groups=32, bias=False)\n",
       "        (bn2): BatchNorm2d(1024, eps=1e-05, momentum=0.1, affine=True, track_running_stats=True)\n",
       "        (conv3): Conv2d(1024, 2048, kernel_size=(1, 1), stride=(1, 1), bias=False)\n",
       "        (bn3): BatchNorm2d(2048, eps=1e-05, momentum=0.1, affine=True, track_running_stats=True)\n",
       "        (relu): ReLU(inplace=True)\n",
       "      )\n",
       "      (2): Bottleneck(\n",
       "        (conv1): Conv2d(2048, 1024, kernel_size=(1, 1), stride=(1, 1), bias=False)\n",
       "        (bn1): BatchNorm2d(1024, eps=1e-05, momentum=0.1, affine=True, track_running_stats=True)\n",
       "        (conv2): Conv2d(1024, 1024, kernel_size=(3, 3), stride=(1, 1), padding=(1, 1), groups=32, bias=False)\n",
       "        (bn2): BatchNorm2d(1024, eps=1e-05, momentum=0.1, affine=True, track_running_stats=True)\n",
       "        (conv3): Conv2d(1024, 2048, kernel_size=(1, 1), stride=(1, 1), bias=False)\n",
       "        (bn3): BatchNorm2d(2048, eps=1e-05, momentum=0.1, affine=True, track_running_stats=True)\n",
       "        (relu): ReLU(inplace=True)\n",
       "      )\n",
       "    )\n",
       "  )\n",
       "  (gem_pool): GeM(p=3.8194, eps=1e-06)\n",
       "  (bn1): BatchNorm1d(2048, eps=1e-05, momentum=0.1, affine=True, track_running_stats=True)\n",
       "  (fc1): Linear(in_features=2048, out_features=512, bias=True)\n",
       "  (dropout): Dropout(p=0.2, inplace=False)\n",
       "  (arc_face): AdaCos()\n",
       ")"
      ]
     },
     "execution_count": 25,
     "metadata": {},
     "output_type": "execute_result"
    }
   ],
   "source": [
    "trainer.run(model, train_loader, epochs=num_epochs, save_path=save_path, schedule=schedule)"
   ]
  },
  {
   "cell_type": "code",
   "execution_count": 14,
   "metadata": {},
   "outputs": [],
   "source": [
    "model = torch.load('/content/models/renet_50/epoch_19/model.pth').to(device)\n",
    "model.eval();"
   ]
  },
  {
   "cell_type": "code",
   "execution_count": 15,
   "metadata": {},
   "outputs": [
    {
     "data": {
      "application/vnd.jupyter.widget-view+json": {
       "model_id": "f26a71de480d424bbeb88037a38cab55",
       "version_major": 2,
       "version_minor": 0
      },
      "text/plain": [
       "  0%|          | 0/27956 [00:00<?, ?it/s]"
      ]
     },
     "metadata": {},
     "output_type": "display_data"
    }
   ],
   "source": [
    "submsission = []\n",
    "img_path = '/content/test_images-256-256/'\n",
    "\n",
    "model.eval();\n",
    "\n",
    "transforms_list_eval = T.Compose([             \n",
    "    iaa.Sequential([\n",
    "        iaa.size.Resize(input_size, interpolation='cubic')\n",
    "    ]).augment_image,     \n",
    "    T.ToTensor()\n",
    "])\n",
    "\n",
    "individial_mapping = {}\n",
    "\n",
    "for individual_n in data_csv['Y'].unique():\n",
    "    individual_id = data_csv[data_csv['Y'] == individual_n]['individual_id'].iloc[0]\n",
    "    individial_mapping[individual_n] = individual_id\n",
    "\n",
    "for img_n in tqdm(os.listdir(img_path)):\n",
    "    img = cv2.cvtColor(cv2.imread(img_path + img_n), cv2.COLOR_BGR2RGB)\n",
    "    input = torch.unsqueeze(transforms_list(img), 0).to(device)\n",
    "    \n",
    "    logits = model.get_logits(input).detach().cpu().numpy()\n",
    "    predict_individuials = np.argsort(logits[0])[::-1][:5]\n",
    "\n",
    "    predictions = ' '.join([individial_mapping[i] for i in predict_individuials])\n",
    "\n",
    "\n",
    "    submsission.append({'image': img_n, 'predictions': predictions})\n",
    "\n",
    "\n",
    "\n",
    "    \n",
    "    \n",
    "\n"
   ]
  },
  {
   "cell_type": "code",
   "execution_count": 16,
   "metadata": {},
   "outputs": [
    {
     "data": {
      "text/html": [
       "<div>\n",
       "<style scoped>\n",
       "    .dataframe tbody tr th:only-of-type {\n",
       "        vertical-align: middle;\n",
       "    }\n",
       "\n",
       "    .dataframe tbody tr th {\n",
       "        vertical-align: top;\n",
       "    }\n",
       "\n",
       "    .dataframe thead th {\n",
       "        text-align: right;\n",
       "    }\n",
       "</style>\n",
       "<table border=\"1\" class=\"dataframe\">\n",
       "  <thead>\n",
       "    <tr style=\"text-align: right;\">\n",
       "      <th></th>\n",
       "      <th>image</th>\n",
       "      <th>predictions</th>\n",
       "    </tr>\n",
       "  </thead>\n",
       "  <tbody>\n",
       "    <tr>\n",
       "      <th>0</th>\n",
       "      <td>888aad4225169b.jpg</td>\n",
       "      <td>366200ff5b49 4091e07ce4fc ffd38c0d37ad cca9869...</td>\n",
       "    </tr>\n",
       "    <tr>\n",
       "      <th>1</th>\n",
       "      <td>0d50bbb8d482c7.jpg</td>\n",
       "      <td>ab0f258e0ac1 f456c758d712 18b04ae46c60 b39880b...</td>\n",
       "    </tr>\n",
       "    <tr>\n",
       "      <th>2</th>\n",
       "      <td>04e8f9eff7698c.jpg</td>\n",
       "      <td>6bf9810d3632 50818c5b1202 557406f121e6 65115a5...</td>\n",
       "    </tr>\n",
       "    <tr>\n",
       "      <th>3</th>\n",
       "      <td>533a85790ad1e8.jpg</td>\n",
       "      <td>e5cffdb1b51d 4134fe49e6ca efda8f368763 44ba380...</td>\n",
       "    </tr>\n",
       "    <tr>\n",
       "      <th>4</th>\n",
       "      <td>eb68e90828ddf5.jpg</td>\n",
       "      <td>93a3cb74801f 31f748b822f4 e5cffdb1b51d 3028ee3...</td>\n",
       "    </tr>\n",
       "    <tr>\n",
       "      <th>...</th>\n",
       "      <td>...</td>\n",
       "      <td>...</td>\n",
       "    </tr>\n",
       "    <tr>\n",
       "      <th>27951</th>\n",
       "      <td>346aa3c8e150f1.jpg</td>\n",
       "      <td>fcbd2f41069b 6a6fa3ec3810 0b180ad0afa2 114207c...</td>\n",
       "    </tr>\n",
       "    <tr>\n",
       "      <th>27952</th>\n",
       "      <td>ab5bc1045b2338.jpg</td>\n",
       "      <td>345b6233994f 2aa3e856e46e e0a87bfbb5c3 d66b070...</td>\n",
       "    </tr>\n",
       "    <tr>\n",
       "      <th>27953</th>\n",
       "      <td>81b07643969966.jpg</td>\n",
       "      <td>5bf17305f073 a45625e2e634 fdb532d9bc78 48936da...</td>\n",
       "    </tr>\n",
       "    <tr>\n",
       "      <th>27954</th>\n",
       "      <td>ddfb6a3df09554.jpg</td>\n",
       "      <td>fecc717ffcf8 a7a5696645cb 28c8f99b4dda 3ebe73f...</td>\n",
       "    </tr>\n",
       "    <tr>\n",
       "      <th>27955</th>\n",
       "      <td>eca7b4bd16f90d.jpg</td>\n",
       "      <td>76865acc4539 ee262c5b2a9e 788447eba45e a7acd11...</td>\n",
       "    </tr>\n",
       "  </tbody>\n",
       "</table>\n",
       "<p>27956 rows × 2 columns</p>\n",
       "</div>"
      ],
      "text/plain": [
       "                    image                                        predictions\n",
       "0      888aad4225169b.jpg  366200ff5b49 4091e07ce4fc ffd38c0d37ad cca9869...\n",
       "1      0d50bbb8d482c7.jpg  ab0f258e0ac1 f456c758d712 18b04ae46c60 b39880b...\n",
       "2      04e8f9eff7698c.jpg  6bf9810d3632 50818c5b1202 557406f121e6 65115a5...\n",
       "3      533a85790ad1e8.jpg  e5cffdb1b51d 4134fe49e6ca efda8f368763 44ba380...\n",
       "4      eb68e90828ddf5.jpg  93a3cb74801f 31f748b822f4 e5cffdb1b51d 3028ee3...\n",
       "...                   ...                                                ...\n",
       "27951  346aa3c8e150f1.jpg  fcbd2f41069b 6a6fa3ec3810 0b180ad0afa2 114207c...\n",
       "27952  ab5bc1045b2338.jpg  345b6233994f 2aa3e856e46e e0a87bfbb5c3 d66b070...\n",
       "27953  81b07643969966.jpg  5bf17305f073 a45625e2e634 fdb532d9bc78 48936da...\n",
       "27954  ddfb6a3df09554.jpg  fecc717ffcf8 a7a5696645cb 28c8f99b4dda 3ebe73f...\n",
       "27955  eca7b4bd16f90d.jpg  76865acc4539 ee262c5b2a9e 788447eba45e a7acd11...\n",
       "\n",
       "[27956 rows x 2 columns]"
      ]
     },
     "execution_count": 16,
     "metadata": {},
     "output_type": "execute_result"
    }
   ],
   "source": [
    "submsission_csv = pd.DataFrame(submsission)\n",
    "submsission_csv"
   ]
  },
  {
   "cell_type": "code",
   "execution_count": null,
   "metadata": {},
   "outputs": [],
   "source": [
    "submsission_csv.to_csv('/content/submission.csv', index=False)"
   ]
  },
  {
   "cell_type": "code",
   "execution_count": null,
   "metadata": {},
   "outputs": [],
   "source": [
    "len(submission)"
   ]
  },
  {
   "cell_type": "code",
   "execution_count": 29,
   "metadata": {},
   "outputs": [
    {
     "name": "stdout",
     "output_type": "stream",
     "text": [
      "torch.Size([1, 2048])\n"
     ]
    }
   ],
   "source": [
    "img_n = '0a4f0aaf24b80e.jpg'\n",
    "img = cv2.cvtColor(cv2.imread(img_path + img_n), cv2.COLOR_BGR2RGB)\n",
    "input = torch.unsqueeze(transforms_list(img), 0).to(device)\n",
    "logits = model.get_logits(input).detach().cpu().numpy()"
   ]
  }
 ],
 "metadata": {
  "interpreter": {
   "hash": "31f2aee4e71d21fbe5cf8b01ff0e069b9275f58929596ceb00d14d90e3e16cd6"
  },
  "kernelspec": {
   "display_name": "Python 3.7.12 64-bit",
   "language": "python",
   "name": "python3"
  },
  "language_info": {
   "codemirror_mode": {
    "name": "ipython",
    "version": 3
   },
   "file_extension": ".py",
   "mimetype": "text/x-python",
   "name": "python",
   "nbconvert_exporter": "python",
   "pygments_lexer": "ipython3",
   "version": "3.7.12"
  },
  "orig_nbformat": 4
 },
 "nbformat": 4,
 "nbformat_minor": 2
}
