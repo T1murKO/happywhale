{
 "cells": [
  {
   "cell_type": "code",
   "execution_count": 160,
   "metadata": {},
   "outputs": [],
   "source": [
    "import pandas as pd\n",
    "from sklearn import preprocessing\n",
    "import cv2\n",
    "from PIL.Image import fromarray\n",
    "from random import uniform\n",
    "import json\n",
    "import numpy as np\n",
    "import os\n",
    "from shutil import copy\n",
    "from tqdm.notebook import tqdm\n",
    "import magic\n",
    "import re\n",
    "import matplotlib.pyplot as plt"
   ]
  },
  {
   "cell_type": "code",
   "execution_count": 3,
   "metadata": {},
   "outputs": [],
   "source": [
    "# train = pd.read_csv('./data/train.csv')\n",
    "# train.species.replace({\"globis\": \"short_finned_pilot_whale\",\n",
    "#                           \"pilot_whale\": \"short_finned_pilot_whale\",\n",
    "#                           \"kiler_whale\": \"killer_whale\",\n",
    "#                           \"bottlenose_dolpin\": \"bottlenose_dolphin\"}, inplace=True)\n",
    "\n",
    "# enc = preprocessing.LabelEncoder()\n",
    "# train['Y'] = enc.fit_transform(train['individual_id'])\n",
    "# train.to_csv('/content/happywhale/csv/train.csv', index=False)"
   ]
  },
  {
   "cell_type": "code",
   "execution_count": null,
   "metadata": {},
   "outputs": [],
   "source": [
    "def replace_nan(x):\n",
    "    if isinstance(x, float):\n",
    "        return np.nan\n",
    "    return x\n",
    "\n",
    "def get_box(x):\n",
    "    bbox = json.loads(x)\n",
    "    if len(bbox) == 0:\n",
    "        return np.nan\n",
    "    if bbox[0] == np.nan:\n",
    "        return np.nan\n",
    "    \n",
    "    return ' '.join([str(i) for i in bbox[0]])\n",
    "\n",
    "\n",
    "def get_conf(x):\n",
    "    conf = json.loads(x)\n",
    "    \n",
    "    if len(conf) == 0:\n",
    "        return np.nan\n",
    "    \n",
    "    if np.isnan(conf[0]):\n",
    "        return np.nan\n",
    "    \n",
    "    \n",
    "    return conf[0]\n",
    "\n",
    "\n",
    "def wipe_low_conf(row):\n",
    "    if row['conf'] < 0.25 and isinstance(row['box1'], float):\n",
    "        row['box1'] = np.nan\n",
    "        row['box2'] = np.nan\n",
    "    return row\n",
    "\n",
    "def get_shape(x):\n",
    "    t = magic.from_file(src + x)\n",
    "    w, h = re.search('(\\d{2,})x(\\d+)', t).groups()\n",
    "    return f'{w} {h}'\n",
    "\n",
    "def get_absolute_box(row):\n",
    "    if isinstance(row['box'], float):\n",
    "        return np.nan\n",
    "    t = magic.from_file(src + row['image'])\n",
    "    w, h = re.search('(\\d{2,})x(\\d+)', t).groups()\n",
    "    w = int(w)\n",
    "    h = int(h)\n",
    "    \n",
    "    box = [int(i) for i in row['box'].split()]\n",
    "    x0 = round(box[0] / w, 4)\n",
    "    y0 = round(box[1] / h, 4)\n",
    "    x1 = round(box[2] / w, 4)\n",
    "    y1 = round(box[3] / h, 4)\n",
    "    \n",
    "    return f'{x0} {y0} {x1} {y1}'\n",
    "\n",
    "\n",
    "def get_box_distance(row):\n",
    "    if isinstance(row['box1'], float) or isinstance(row['box2'], float):\n",
    "        return np.nan\n",
    "    \n",
    "    box1 = [int(i) for i in row['box1'].split()]\n",
    "    box2 = [int(i) for i in row['box2'].split()]\n",
    "    h, w = row['shape'].split()\n",
    "    h = int(h)\n",
    "    w = int(w)\n",
    "    \n",
    "    x0 = round(abs(box1[0] - box2[0]) / w, 4)\n",
    "    y0 = round(abs(box1[1] - box2[1]) / h, 4)\n",
    "    x1 = round(abs(box1[2] - box2[2]) / w, 4)\n",
    "    y1 = round(abs(box1[3] - box2[3]) / h, 4)\n",
    "    \n",
    "    return x0 + y0 + x1 + y1\n",
    "\n",
    "def wipe_high_dist(row):\n",
    "    if row['dst'] > 0.6:\n",
    "        row['box1'] = np.nan\n",
    "        row['box2'] = np.nan\n",
    "    return row\n",
    "\n",
    "\n",
    "def get_final_box(row):\n",
    "    if isinstance(row['box1'], float) or isinstance(row['box2'], float):\n",
    "        return np.nan\n",
    "    else:\n",
    "        box1 = [int(i) for i in row['box1'].split()]\n",
    "        box2 = [int(i) for i in row['box2'].split()]\n",
    "        \n",
    "        weights = [0.75, 0.25]\n",
    "        x0 = round(np.average([box1[0], box2[0]], weights=weights))\n",
    "        y0 = round(np.average([box1[1], box2[1]], weights=weights))\n",
    "        x1 = round(np.average([box1[2], box2[2]], weights=weights))\n",
    "        y1 = round(np.average([box1[3], box2[3]], weights=weights))\n",
    "        \n",
    "        return f'{x0} {y0} {x1} {y1}'"
   ]
  },
  {
   "cell_type": "code",
   "execution_count": 74,
   "metadata": {},
   "outputs": [],
   "source": [
    "src = '/home/kutsenko/kaggle/data/train_images/'\n",
    "\n",
    "train2 = pd.read_csv('/home/kutsenko/kaggle/data/train2.csv')\n",
    "train2.rename(columns={'box': 'box1'}, inplace=True)\n",
    "train2['box1'] = train2['box1'].apply(replace_nan)\n",
    "\n",
    "train3 = pd.read_csv('/home/kutsenko/kaggle/data/train3.csv')\n",
    "\n",
    "train3['bbox'] = train3['bbox'].apply(get_box)\n",
    "train3['conf'] = train3['conf'].apply(get_conf)\n",
    "train3['image'] = train3['image_path'].apply(lambda x: x.split('/')[-1])\n",
    "train3 = train3[['image', 'bbox', 'conf']]\n",
    "train3.rename(columns={'bbox': 'box2'}, inplace=True)\n",
    "\n",
    "train2 = train2.merge(train3, on='image')\n",
    "\n",
    "with open('/home/kutsenko/kaggle/happywhale/data/deleted.txt', 'r') as f:\n",
    "    deleted = [i.strip() for i in f.readlines()]\n",
    "\n",
    "train2 = train2[~train2['image'].isin(deleted)]\n",
    "\n",
    "\n",
    "\n",
    "train2['shape'] = train2['image'].apply(get_shape)\n",
    "\n",
    "train2 = train2.apply(wipe_low_conf, axis=1)\n",
    "\n",
    "\n",
    "train2['dst'] = train2.apply(get_box_distance, axis=1)\n",
    "# dst_frame = train2[~train2['dst'].isna()].sort_values('dst', ascending=False)\n",
    "train2 = train2.apply(wipe_high_dist, axis=1)\n",
    "train2['box'] = train2.apply(get_final_box, axis=1)\n",
    "\n",
    "with open('/home/kutsenko/kaggle/happywhale/data/json/target_to_id.json', 'r') as f:\n",
    "    target_to_id = json.load(f)\n",
    "target_to_id = {target_to_id[key]: int(key) for key in target_to_id}\n",
    "\n",
    "train2 = train2[['image', 'individual_id', 'box']]\n",
    "train2['Y'] = train2['individual_id'].apply(lambda x: target_to_id[x])\n",
    "\n",
    "train2['box'] = train2.apply(get_absolute_box, axis=1)\n",
    "train2.to_csv('/home/kutsenko/kaggle/happywhale/data/train_.csv', index=False)"
   ]
  },
  {
   "cell_type": "code",
   "execution_count": 295,
   "metadata": {},
   "outputs": [],
   "source": [
    "train = pd.read_csv('/home/kutsenko/kaggle/happywhale/data/train_.csv')"
   ]
  },
  {
   "cell_type": "code",
   "execution_count": 301,
   "metadata": {},
   "outputs": [],
   "source": [
    "train.to_csv('/home/kutsenko/kaggle/happywhale/data/train_.csv', index=False)"
   ]
  },
  {
   "cell_type": "code",
   "execution_count": 43,
   "metadata": {},
   "outputs": [],
   "source": [
    "# low_conf_ids = train2[(train2['box1'].isna()) & ((train2['conf'] < 0.22))].index\n",
    "# low_conf = train2[(train2['box1'].isna()) & ((train2['box2'].isna()) | (train2['conf'] < 0.02))]"
   ]
  },
  {
   "cell_type": "code",
   "execution_count": 235,
   "metadata": {},
   "outputs": [],
   "source": [
    "indexs_no_box = dst_frame[dst_frame['dst'] > 0.54].index"
   ]
  },
  {
   "cell_type": "code",
   "execution_count": 291,
   "metadata": {},
   "outputs": [],
   "source": [
    "view_sample = train2[~train2['box'].isna()].sample(200)"
   ]
  },
  {
   "cell_type": "code",
   "execution_count": null,
   "metadata": {},
   "outputs": [],
   "source": [
    "for i, row in view_sample.iterrows():\n",
    "    img_n = row['image']\n",
    "    img = cv2.imread(src + img_n)\n",
    "    box = [int(i) for i in row['box1'].split()]\n",
    "    cv2.rectangle(img, (box[0], box[1]), (box[2], box[3]), (255,0,0), 2)\n",
    "    box = [int(i) for i in row['box2'].split()]\n",
    "    cv2.rectangle(img, (box[0], box[1]), (box[2], box[3]), (0, 255,0), 2)\n",
    "    cv2.imwrite('/home/kutsenko/kaggle/view3/' + img_n, img)\n",
    "    \n",
    "    "
   ]
  },
  {
   "cell_type": "code",
   "execution_count": 294,
   "metadata": {},
   "outputs": [],
   "source": [
    "for i, row in view_sample.iterrows():\n",
    "    img_n = row['image']\n",
    "    img = cv2.imread(src + img_n)\n",
    "    box = [int(i) for i in row['box'].split()]\n",
    "    cv2.rectangle(img, (box[0], box[1]), (box[2], box[3]), (0, 255,0), 2)\n",
    "    cv2.imwrite('/home/kutsenko/kaggle/view3/' + img_n, img)\n",
    "    \n",
    "    "
   ]
  },
  {
   "cell_type": "code",
   "execution_count": null,
   "metadata": {},
   "outputs": [],
   "source": [
    "# sample = na_images.iloc[i]\n",
    "# # sample = train2[train2['image'] == 'db571a3686e9ae.jpg'].iloc[0]\n",
    "# img_n = sample['image']\n",
    "# print(i, img_n)\n",
    "# box = sample['box1']\n",
    "# img = cv2.imread(src + img_n)\n",
    "# h, w, c = img.shape\n",
    "# if isinstance(box, str):\n",
    "#     box = [int(i) for i in box.split()]\n",
    "#     cv2.rectangle(img, (box[0], box[1]), (box[2], box[3]), (255,0,0), 2)\n",
    "#     ratio = round(uniform(0, 1), 4)\n",
    "#     x0 = round(round(box[0] / w * ratio, 4) * w)\n",
    "#     y0 = round(round(box[1] / h  * ratio, 4) * h)\n",
    "#     x1 = round(round(1 - (1 - box[2] / w)  * ratio, 4) * w)\n",
    "#     y1 = round(round(1 - (1 - box[3] / h)  * ratio, 4) * h)\n",
    "#     print('ratio', ratio)\n",
    "#     cv2.rectangle(img, (x0, y0), (x1, y1), (0,255,255), 2)\n",
    "    \n",
    "# else:\n",
    "#     print('box none')\n",
    "\n",
    "# i += 1 \n",
    "# fromarray(img)\n"
   ]
  },
  {
   "cell_type": "code",
   "execution_count": 47,
   "metadata": {},
   "outputs": [
    {
     "data": {
      "text/plain": [
       "27"
      ]
     },
     "execution_count": 47,
     "metadata": {},
     "output_type": "execute_result"
    }
   ],
   "source": [
    "# for img_n in low_conf['image']:\n",
    "#     copy(src + img_n, '/home/kutsenko/kaggle/view2/' + img_n)\n",
    "\n",
    "# low_conf_origin = low_conf['image'].tolist()\n",
    "# low_conf_clean = os.listdir('/home/kutsenko/kaggle/view2')\n",
    "# to_del2 = list(set(low_conf_origin) - set(low_conf_clean))\n",
    "# to_del2 = list(set(to_del2))\n",
    "# len(to_del2)"
   ]
  },
  {
   "cell_type": "code",
   "execution_count": 43,
   "metadata": {},
   "outputs": [],
   "source": [
    "# na_images = train2[(train2['box1'].isna()) & (train2['box2'].isna())]\n",
    "# na_images = na_images.reset_index(drop=True)\n",
    "\n",
    "# na_images_origin = na_images['image'].tolist()\n",
    "\n",
    "# na_images_clean = os.listdir('/home/kutsenko/kaggle/view')\n",
    "# to_del = list(set(na_images_origin) - set(na_images_clean))\n",
    "# to_del.append('cd5fe465c60cb9.jpg')\n",
    "# to_del.append('083a0fee112e3c.jpg')\n",
    "# to_del.append('f7942e041d9963.jpg')\n",
    "# to_del.append('9f94de1a3c768b.jpg')\n",
    "# to_del.append('bc6c01a7baf94b.jpg')\n",
    "# to_del.append('bb875ffcb8d064.jpg')\n",
    "# to_del = list(set(to_del))\n",
    "# len(to_del)\n",
    "\n",
    "\n",
    "# with open('/home/kutsenko/kaggle/happywhale/data/deleted.txt', 'w') as f:\n",
    "#     for i in deleted:\n",
    "#         f.write(i + '\\n')"
   ]
  },
  {
   "cell_type": "code",
   "execution_count": 320,
   "metadata": {},
   "outputs": [],
   "source": [
    "src = '/home/kutsenko/kaggle/data/test_images/'"
   ]
  },
  {
   "cell_type": "code",
   "execution_count": 302,
   "metadata": {},
   "outputs": [],
   "source": [
    "src = '/home/kutsenko/kaggle/data/test_images/'\n",
    "\n",
    "test2 = pd.read_csv('/home/kutsenko/kaggle/data/test2.csv')\n",
    "test2.rename(columns={'box': 'box1'}, inplace=True)\n",
    "test2['box1'] = test2['box1'].apply(replace_nan)"
   ]
  },
  {
   "cell_type": "code",
   "execution_count": 311,
   "metadata": {},
   "outputs": [],
   "source": [
    "test3 = pd.read_csv('/home/kutsenko/kaggle/data/test3.csv')\n",
    "\n",
    "test3['bbox'] = test3['bbox'].apply(get_box)\n",
    "test3['conf'] = test3['conf'].apply(get_conf)\n",
    "test3['image'] = test3['image_path'].apply(lambda x: x.split('/')[-1])\n",
    "test3 = test3[['image', 'bbox', 'conf']]\n",
    "test3.rename(columns={'bbox': 'box2'}, inplace=True)\n"
   ]
  },
  {
   "cell_type": "code",
   "execution_count": 312,
   "metadata": {},
   "outputs": [],
   "source": [
    "test2 = test2.merge(test3, on='image')"
   ]
  },
  {
   "cell_type": "code",
   "execution_count": 319,
   "metadata": {},
   "outputs": [
    {
     "data": {
      "text/html": [
       "<div>\n",
       "<style scoped>\n",
       "    .dataframe tbody tr th:only-of-type {\n",
       "        vertical-align: middle;\n",
       "    }\n",
       "\n",
       "    .dataframe tbody tr th {\n",
       "        vertical-align: top;\n",
       "    }\n",
       "\n",
       "    .dataframe thead th {\n",
       "        text-align: right;\n",
       "    }\n",
       "</style>\n",
       "<table border=\"1\" class=\"dataframe\">\n",
       "  <thead>\n",
       "    <tr style=\"text-align: right;\">\n",
       "      <th></th>\n",
       "      <th>image</th>\n",
       "      <th>predictions</th>\n",
       "      <th>box1</th>\n",
       "      <th>box2</th>\n",
       "      <th>conf</th>\n",
       "    </tr>\n",
       "  </thead>\n",
       "  <tbody>\n",
       "    <tr>\n",
       "      <th>7453</th>\n",
       "      <td>42fb13a2a6e9d3.jpg</td>\n",
       "      <td>37c7aba965a5 114207cab555 a6e325d8e924 19fbb96...</td>\n",
       "      <td>1476 1125 2027 1253</td>\n",
       "      <td>1478 1101 2057 1245</td>\n",
       "      <td>0.19434</td>\n",
       "    </tr>\n",
       "  </tbody>\n",
       "</table>\n",
       "</div>"
      ],
      "text/plain": [
       "                   image                                        predictions  \\\n",
       "7453  42fb13a2a6e9d3.jpg  37c7aba965a5 114207cab555 a6e325d8e924 19fbb96...   \n",
       "\n",
       "                     box1                 box2     conf  \n",
       "7453  1476 1125 2027 1253  1478 1101 2057 1245  0.19434  "
      ]
     },
     "execution_count": 319,
     "metadata": {},
     "output_type": "execute_result"
    }
   ],
   "source": [
    "test2[test2.image == '42fb13a2a6e9d3.jpg']"
   ]
  },
  {
   "cell_type": "code",
   "execution_count": 322,
   "metadata": {},
   "outputs": [
    {
     "data": {
      "text/html": [
       "<div>\n",
       "<style scoped>\n",
       "    .dataframe tbody tr th:only-of-type {\n",
       "        vertical-align: middle;\n",
       "    }\n",
       "\n",
       "    .dataframe tbody tr th {\n",
       "        vertical-align: top;\n",
       "    }\n",
       "\n",
       "    .dataframe thead th {\n",
       "        text-align: right;\n",
       "    }\n",
       "</style>\n",
       "<table border=\"1\" class=\"dataframe\">\n",
       "  <thead>\n",
       "    <tr style=\"text-align: right;\">\n",
       "      <th></th>\n",
       "      <th>image</th>\n",
       "      <th>predictions</th>\n",
       "      <th>box1</th>\n",
       "      <th>box2</th>\n",
       "      <th>conf</th>\n",
       "    </tr>\n",
       "  </thead>\n",
       "  <tbody>\n",
       "    <tr>\n",
       "      <th>0</th>\n",
       "      <td>000110707af0ba.jpg</td>\n",
       "      <td>37c7aba965a5 114207cab555 a6e325d8e924 19fbb96...</td>\n",
       "      <td>329 874 2934 1271</td>\n",
       "      <td>93 807 3546 1377</td>\n",
       "      <td>0.154790</td>\n",
       "    </tr>\n",
       "    <tr>\n",
       "      <th>1</th>\n",
       "      <td>0006287ec424cb.jpg</td>\n",
       "      <td>37c7aba965a5 114207cab555 a6e325d8e924 19fbb96...</td>\n",
       "      <td>1039 1636 1833 1875</td>\n",
       "      <td>772 1623 2220 1885</td>\n",
       "      <td>0.113400</td>\n",
       "    </tr>\n",
       "    <tr>\n",
       "      <th>2</th>\n",
       "      <td>000809ecb2ccad.jpg</td>\n",
       "      <td>37c7aba965a5 114207cab555 a6e325d8e924 19fbb96...</td>\n",
       "      <td>787 787 1541 948</td>\n",
       "      <td>382 772 1970 989</td>\n",
       "      <td>0.082519</td>\n",
       "    </tr>\n",
       "    <tr>\n",
       "      <th>3</th>\n",
       "      <td>00098d1376dab2.jpg</td>\n",
       "      <td>37c7aba965a5 114207cab555 a6e325d8e924 19fbb96...</td>\n",
       "      <td>77 228 2029 714</td>\n",
       "      <td>31 222 1939 713</td>\n",
       "      <td>0.608400</td>\n",
       "    </tr>\n",
       "    <tr>\n",
       "      <th>4</th>\n",
       "      <td>000b8d89c738bd.jpg</td>\n",
       "      <td>37c7aba965a5 114207cab555 a6e325d8e924 19fbb96...</td>\n",
       "      <td>4 20 289 317</td>\n",
       "      <td>0 12 293 317</td>\n",
       "      <td>0.854980</td>\n",
       "    </tr>\n",
       "    <tr>\n",
       "      <th>...</th>\n",
       "      <td>...</td>\n",
       "      <td>...</td>\n",
       "      <td>...</td>\n",
       "      <td>...</td>\n",
       "      <td>...</td>\n",
       "    </tr>\n",
       "    <tr>\n",
       "      <th>27951</th>\n",
       "      <td>fff6ff1989b5cd.jpg</td>\n",
       "      <td>37c7aba965a5 114207cab555 a6e325d8e924 19fbb96...</td>\n",
       "      <td>0 31 1225 524</td>\n",
       "      <td>32 20 1213 532</td>\n",
       "      <td>0.568850</td>\n",
       "    </tr>\n",
       "    <tr>\n",
       "      <th>27952</th>\n",
       "      <td>fff8fd932b42cb.jpg</td>\n",
       "      <td>37c7aba965a5 114207cab555 a6e325d8e924 19fbb96...</td>\n",
       "      <td>5 44 888 836</td>\n",
       "      <td>0 3 889 835</td>\n",
       "      <td>0.769040</td>\n",
       "    </tr>\n",
       "    <tr>\n",
       "      <th>27953</th>\n",
       "      <td>fff96371332c16.jpg</td>\n",
       "      <td>37c7aba965a5 114207cab555 a6e325d8e924 19fbb96...</td>\n",
       "      <td>NaN</td>\n",
       "      <td>285 848 3133 1218</td>\n",
       "      <td>0.166140</td>\n",
       "    </tr>\n",
       "    <tr>\n",
       "      <th>27954</th>\n",
       "      <td>fffc1c4d3eabc7.jpg</td>\n",
       "      <td>37c7aba965a5 114207cab555 a6e325d8e924 19fbb96...</td>\n",
       "      <td>1477 1178 2413 1422</td>\n",
       "      <td>1413 1173 2386 1444</td>\n",
       "      <td>0.142700</td>\n",
       "    </tr>\n",
       "    <tr>\n",
       "      <th>27955</th>\n",
       "      <td>fffc50be10c175.jpg</td>\n",
       "      <td>37c7aba965a5 114207cab555 a6e325d8e924 19fbb96...</td>\n",
       "      <td>47 37 1060 600</td>\n",
       "      <td>18 24 1076 626</td>\n",
       "      <td>0.620600</td>\n",
       "    </tr>\n",
       "  </tbody>\n",
       "</table>\n",
       "<p>27956 rows × 5 columns</p>\n",
       "</div>"
      ],
      "text/plain": [
       "                    image                                        predictions  \\\n",
       "0      000110707af0ba.jpg  37c7aba965a5 114207cab555 a6e325d8e924 19fbb96...   \n",
       "1      0006287ec424cb.jpg  37c7aba965a5 114207cab555 a6e325d8e924 19fbb96...   \n",
       "2      000809ecb2ccad.jpg  37c7aba965a5 114207cab555 a6e325d8e924 19fbb96...   \n",
       "3      00098d1376dab2.jpg  37c7aba965a5 114207cab555 a6e325d8e924 19fbb96...   \n",
       "4      000b8d89c738bd.jpg  37c7aba965a5 114207cab555 a6e325d8e924 19fbb96...   \n",
       "...                   ...                                                ...   \n",
       "27951  fff6ff1989b5cd.jpg  37c7aba965a5 114207cab555 a6e325d8e924 19fbb96...   \n",
       "27952  fff8fd932b42cb.jpg  37c7aba965a5 114207cab555 a6e325d8e924 19fbb96...   \n",
       "27953  fff96371332c16.jpg  37c7aba965a5 114207cab555 a6e325d8e924 19fbb96...   \n",
       "27954  fffc1c4d3eabc7.jpg  37c7aba965a5 114207cab555 a6e325d8e924 19fbb96...   \n",
       "27955  fffc50be10c175.jpg  37c7aba965a5 114207cab555 a6e325d8e924 19fbb96...   \n",
       "\n",
       "                      box1                 box2      conf  \n",
       "0        329 874 2934 1271     93 807 3546 1377  0.154790  \n",
       "1      1039 1636 1833 1875   772 1623 2220 1885  0.113400  \n",
       "2         787 787 1541 948     382 772 1970 989  0.082519  \n",
       "3          77 228 2029 714      31 222 1939 713  0.608400  \n",
       "4             4 20 289 317         0 12 293 317  0.854980  \n",
       "...                    ...                  ...       ...  \n",
       "27951        0 31 1225 524       32 20 1213 532  0.568850  \n",
       "27952         5 44 888 836          0 3 889 835  0.769040  \n",
       "27953                  NaN    285 848 3133 1218  0.166140  \n",
       "27954  1477 1178 2413 1422  1413 1173 2386 1444  0.142700  \n",
       "27955       47 37 1060 600       18 24 1076 626  0.620600  \n",
       "\n",
       "[27956 rows x 5 columns]"
      ]
     },
     "execution_count": 322,
     "metadata": {},
     "output_type": "execute_result"
    }
   ],
   "source": [
    "test2"
   ]
  },
  {
   "cell_type": "code",
   "execution_count": null,
   "metadata": {},
   "outputs": [],
   "source": [
    "test2['shape'] = test2['image'].apply(get_shape)\n",
    "test2 = test2.apply(wipe_low_conf, axis=1)"
   ]
  },
  {
   "cell_type": "code",
   "execution_count": 321,
   "metadata": {},
   "outputs": [
    {
     "data": {
      "text/plain": [
       "False"
      ]
     },
     "execution_count": 321,
     "metadata": {},
     "output_type": "execute_result"
    }
   ],
   "source": [
    "os.path.isfile('/home/kutsenko/kaggle/data/test_images/42fb13a2a6e9d3.jpg')"
   ]
  },
  {
   "cell_type": "code",
   "execution_count": null,
   "metadata": {},
   "outputs": [],
   "source": [
    "train2['dst'] = train2.apply(get_box_distance, axis=1)\n",
    "# dst_frame = train2[~train2['dst'].isna()].sort_values('dst', ascending=False)\n",
    "train2 = train2.apply(wipe_high_dist, axis=1)\n",
    "train2['box'] = train2.apply(get_final_box, axis=1)\n",
    "\n",
    "with open('/home/kutsenko/kaggle/happywhale/data/json/target_to_id.json', 'r') as f:\n",
    "    target_to_id = json.load(f)\n",
    "target_to_id = {target_to_id[key]: int(key) for key in target_to_id}\n",
    "\n",
    "train2 = train2[['image', 'individual_id', 'box']]\n",
    "train2['Y'] = train2['individual_id'].apply(lambda x: target_to_id[x])\n",
    "\n",
    "train2['box'] = train2.apply(get_absolute_box, axis=1)\n",
    "train2.to_csv('/home/kutsenko/kaggle/happywhale/data/train_.csv', index=False)"
   ]
  },
  {
   "cell_type": "code",
   "execution_count": null,
   "metadata": {},
   "outputs": [],
   "source": []
  }
 ],
 "metadata": {
  "interpreter": {
   "hash": "31f2aee4e71d21fbe5cf8b01ff0e069b9275f58929596ceb00d14d90e3e16cd6"
  },
  "kernelspec": {
   "display_name": "Python 3.8.10 64-bit",
   "language": "python",
   "name": "python3"
  },
  "language_info": {
   "codemirror_mode": {
    "name": "ipython",
    "version": 3
   },
   "file_extension": ".py",
   "mimetype": "text/x-python",
   "name": "python",
   "nbconvert_exporter": "python",
   "pygments_lexer": "ipython3",
   "version": "3.8.10"
  },
  "orig_nbformat": 4
 },
 "nbformat": 4,
 "nbformat_minor": 2
}
